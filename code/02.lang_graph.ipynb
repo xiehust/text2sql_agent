{
 "cells": [
  {
   "cell_type": "markdown",
   "metadata": {},
   "source": [
    "# Use LangGraph to create a graph of text2sql application"
   ]
  },
  {
   "cell_type": "code",
   "execution_count": 1,
   "metadata": {},
   "outputs": [],
   "source": [
    "# !pip install -Uq langchain==0.2.7 langchain-aws langgraph==0.1.5 httpx  shortuuid pymysql pandas pygraphviz matplotlib"
   ]
  },
  {
   "cell_type": "markdown",
   "metadata": {},
   "source": [
    "## 1. Create database connection"
   ]
  },
  {
   "cell_type": "code",
   "execution_count": 25,
   "metadata": {},
   "outputs": [
    {
     "data": {
      "text/plain": [
       "True"
      ]
     },
     "execution_count": 25,
     "metadata": {},
     "output_type": "execute_result"
    }
   ],
   "source": [
    "import dotenv\n",
    "dotenv.load_dotenv('../.env.sample',override=True)"
   ]
  },
  {
   "cell_type": "markdown",
   "metadata": {},
   "source": [
    "- create a mysql connection"
   ]
  },
  {
   "cell_type": "code",
   "execution_count": 31,
   "metadata": {},
   "outputs": [],
   "source": [
    "from utils.database import ConnectConfigEntity,RelationDatabase,get_sql_result_tool\n",
    "import shortuuid\n",
    "import os\n",
    "mysql_connection = ConnectConfigEntity(id=shortuuid.uuid(),\n",
    "                                       conn_name='test',\n",
    "                                       db_type='mysql',\n",
    "                                       db_name=os.environ['RDS_MYSQL_DBNAME'],\n",
    "                                       db_host=os.environ['RDS_MYSQL_HOST'],\n",
    "                                       db_port=os.environ['RDS_MYSQL_PORT'],\n",
    "                                       db_user=os.environ['RDS_MYSQL_USERNAME'],\n",
    "                                       db_pwd=os.environ['RDS_MYSQL_PASSWORD'],\n",
    "                                       comment='test'\n",
    "                                       )"
   ]
  },
  {
   "cell_type": "code",
   "execution_count": 32,
   "metadata": {},
   "outputs": [
    {
     "name": "stdout",
     "output_type": "stream",
     "text": [
      "tables:dict_keys(['interactions', 'items', 'users'])\n",
      "schema:[]\n"
     ]
    }
   ],
   "source": [
    "tables = RelationDatabase.get_all_tables_by_connection(mysql_connection)\n",
    "schema = RelationDatabase.get_all_schema_names_by_connection(mysql_connection)\n",
    "print(f'tables:{tables}\\nschema:{schema}')"
   ]
  },
  {
   "cell_type": "code",
   "execution_count": 33,
   "metadata": {},
   "outputs": [],
   "source": [
    "def fetch_ddls(input,connection:ConnectConfigEntity):\n",
    "    \"\"\"fetch ddl of given connections \n",
    "\n",
    "    Args:\n",
    "        input (_type_): dummy input\n",
    "        connection (ConnectConfigEntity): database connection\n",
    "\n",
    "    Returns:\n",
    "        _type_: ddl of all tables\n",
    "    \"\"\"\n",
    "    tables = RelationDatabase.get_all_tables_by_connection(connection)\n",
    "    schema = RelationDatabase.get_all_schema_names_by_connection(connection)\n",
    "    ddls = RelationDatabase.get_table_definition_by_connection(connection,schema,list(tables))\n",
    "    return ddls\n",
    "    "
   ]
  },
  {
   "cell_type": "markdown",
   "metadata": {},
   "source": [
    "- We use langchain RunnableLambda to wrap the function, so that we can integrate it into the chain."
   ]
  },
  {
   "cell_type": "code",
   "execution_count": 36,
   "metadata": {},
   "outputs": [],
   "source": [
    "from langchain_core.runnables import RunnableLambda\n",
    "from operator import itemgetter\n",
    "\n",
    "run_fetch_ddls = RunnableLambda(fetch_ddls).bind(connection= mysql_connection)\n",
    "table_ddls = run_fetch_ddls.invoke('')"
   ]
  },
  {
   "cell_type": "code",
   "execution_count": 37,
   "metadata": {},
   "outputs": [
    {
     "name": "stdout",
     "output_type": "stream",
     "text": [
      "{'interactions': {'ddl': 'CREATE TABLE interactions  \\n (\\n  item_id VARCHAR ,\\n  user_id INTEGER ,\\n  event_type VARCHAR ,\\n  timestamp INTEGER ,\\n  discount VARCHAR \\n)', 'description': None}, 'items': {'ddl': 'CREATE TABLE items  \\n (\\n  item_id VARCHAR ,\\n  price FLOAT ,\\n  category_l1 VARCHAR ,\\n  category_l2 VARCHAR ,\\n  product_description VARCHAR ,\\n  gender VARCHAR ,\\n  promoted VARCHAR \\n)', 'description': None}, 'users': {'ddl': 'CREATE TABLE users  \\n (\\n  user_id VARCHAR ,\\n  age INTEGER ,\\n  gender VARCHAR \\n)', 'description': None}}\n"
     ]
    }
   ],
   "source": [
    "print(table_ddls)"
   ]
  },
  {
   "cell_type": "markdown",
   "metadata": {},
   "source": [
    "## 2. Start with a simple Graph\n",
    "- we will create a intention detection flow\n",
    "- detect the intent from [\"normal_search\",\"reject_search\",\"agent_search\",\"knowledge_search\",\"normal_chat\"]"
   ]
  },
  {
   "cell_type": "code",
   "execution_count": 38,
   "metadata": {},
   "outputs": [],
   "source": [
    "from langchain_aws import ChatBedrock\n",
    "from langchain.callbacks.streaming_stdout import StreamingStdOutCallbackHandler\n",
    "from langchain_core.output_parsers import StrOutputParser\n",
    "import sys\n",
    "sys.setrecursionlimit(2000)\n",
    "llm = ChatBedrock( model_id=\"anthropic.claude-3-sonnet-20240229-v1:0\",\n",
    "                  # streaming=True,\n",
    "                # callbacks=[StreamingStdOutCallbackHandler()],\n",
    "                model_kwargs=dict(temperature=0.1),\n",
    "                 credentials_profile_name=\"default\")\n",
    "\n",
    "llm_fast = ChatBedrock( model_id=\"anthropic.claude-3-haiku-20240307-v1:0\",\n",
    "                  streaming=True,\n",
    "                # callbacks=[StreamingStdOutCallbackHandler()],\n",
    "                model_kwargs=dict(temperature=0.5),\n",
    "                 credentials_profile_name=\"default\")"
   ]
  },
  {
   "cell_type": "code",
   "execution_count": 39,
   "metadata": {},
   "outputs": [],
   "source": [
    "import json\n",
    "import uuid\n",
    "from datetime import datetime, timezone\n",
    "from typing import Optional, Tuple\n",
    "from langchain_core.messages.utils import get_buffer_string\n",
    "from langchain_core.prompts import ChatPromptTemplate,MessagesPlaceholder\n",
    "from langchain_core.runnables.config import (\n",
    "    RunnableConfig,\n",
    "    ensure_config,\n",
    "    get_executor_for_config,\n",
    ")\n",
    "from langchain_core.tools import tool\n",
    "from langgraph.graph import END, START, StateGraph\n",
    "from langgraph.prebuilt import ToolNode\n",
    "from typing_extensions import Literal"
   ]
  },
  {
   "cell_type": "code",
   "execution_count": 40,
   "metadata": {},
   "outputs": [],
   "source": [
    "import operator\n",
    "from typing import Annotated, Sequence,Dict,Optional,Any,TypedDict,List\n",
    "from langchain_core.messages import AIMessage, BaseMessage, HumanMessage, ToolMessage\n",
    "\n",
    "class AgentState(TypedDict):\n",
    "    \"\"\"The messages in the conversation.\"\"\"\n",
    "    messages: Annotated[Sequence[BaseMessage], operator.add]\n",
    "    env_var: Optional[Annotated[Dict[str, Any], operator.ior]]\n",
    "    \n",
    "class GraphConfig(TypedDict):\n",
    "    \"\"\"The max loops for generation\"\"\"\n",
    "    max_loops: int = 3"
   ]
  },
  {
   "cell_type": "code",
   "execution_count": 41,
   "metadata": {},
   "outputs": [],
   "source": [
    "# intention detection system prompt\n",
    "intent_system_prompt=\"\"\"You are an intent classifier and entity extractor, and you need to perform intent classification and entity extraction on search queries.\n",
    "Background: I want to query data in the database, and you need to help me determine the user's relevant intent and extract the keywords from the query statement. Finally, return a JSON structure.\n",
    "\n",
    "There are 3 main intents:\n",
    "<intent>\n",
    "- normal_search: Query relevant data from the data table\n",
    "- reject_search: Delete data from the table, add data to the table, modify data in the table, display usernames and passwords in the table, and other topics unrelated to data query\n",
    "- agent_search: Attribution-based problems are not about directly querying the data. Instead, they involve questions like \"why\" or \"how\" to understand the underlying reasons and dynamics behind the data.\n",
    "- knowledge_search: Questions unrelated to data, such as general knowledge, such as meaning for abbviations, terminology explanation, etc.\n",
    "</intent>\n",
    "\n",
    "When the intent is normal_search, you need to extract the keywords from the query statement.\n",
    "\n",
    "Here are some examples:\n",
    "\n",
    "<example>\n",
    "## question : 希尔顿在欧洲上线了多少酒店数\n",
    "## answer :\n",
    "{{\n",
    "    \"intent\" : \"normal_search\",\n",
    "    \"slot\" : [\"希尔顿\", \"欧洲\", \"上线\", \"酒店数\"]\n",
    "}}\n",
    "\n",
    "## question : 苹果手机3月份在京东有多少订单\n",
    "## answer :\n",
    "{{\n",
    "    \"intent\" : \"normal_search\",\n",
    "    \"slot\" : [\"苹果手机\", \"3月\", \"京东\", \"订单\"]\n",
    "}}\n",
    "\n",
    "## question : 4月份的订单总数是\n",
    "## answer :\n",
    "{{\n",
    "    \"intent\" : \"normal_search\",\n",
    "    \"slot\" : [\"4月\", \"订单\"]\n",
    "}}\n",
    "\n",
    "## question : 修改订单表中的第一行数据\n",
    "## answer :\n",
    "{{\n",
    "    \"intent\" : \"reject_search\"\n",
    "}}\n",
    "\n",
    "## question : 6月份酒店的订单为什么下降了\n",
    "## answer :\n",
    "{{\n",
    "    \"intent\" : \"agent_search\"\n",
    "}}\n",
    "\n",
    "## question : 希尔顿的英文名是什么\n",
    "## answer :\n",
    "{{\n",
    "    \"intent\" : \"knowledge_search\"\n",
    "}}\n",
    "\n",
    "## question : 你好，你是谁\n",
    "## answer :\n",
    "{{\n",
    "    \"intent\" : \"normal_chat\"\n",
    "}}\n",
    "</example>\n",
    "\n",
    "Please perform intent recognition and entity extraction. Return only the JSON structure, without any other annotations.\n",
    "\"\"\""
   ]
  },
  {
   "cell_type": "code",
   "execution_count": 89,
   "metadata": {},
   "outputs": [],
   "source": [
    "# Agent system prompt\n",
    "agent_system_prompt = \"\"\"\n",
    "you are a data analysis expert as well as a retail expert. \n",
    "Your current task is to break down the current problem into multiple sub problems based on the problem and the provided data table structure.\n",
    "\n",
    "<instructions>\n",
    "1. Fully understand the problem raised by the user\n",
    "2. Thoroughly understand the data table below\n",
    "3. Based on the information in the data table, break it down into multiple sub-problems that can be queried through SQL,\n",
    "4. only output the JSON structure\n",
    "<instructions>\n",
    "\n",
    "Here is DDL of the database you are working on:\n",
    "\n",
    "<table_schema>\n",
    "{table_schema_data}\n",
    "</table_schema>\n",
    "\n",
    "Here are some guidelines you should follow:\n",
    "\n",
    "<guidelines>\n",
    "\n",
    "{sql_guidance}\n",
    "\n",
    "</guidelines> \n",
    "\n",
    "Here are some examples of breaking down complex problems into subtasks:\n",
    "\n",
    "<example>\n",
    "\n",
    "{example_data}\n",
    "\n",
    "</example>\n",
    "\n",
    "Please conduct a thorough analysis of the user's question according to the above instructions, and finally only output the JSON structure without outputting any other content.\n",
    "\n",
    "\"\"\""
   ]
  },
  {
   "cell_type": "code",
   "execution_count": 90,
   "metadata": {},
   "outputs": [],
   "source": [
    "# normal chat system prompt\n",
    "normal_chat_system_prompt=\"\"\"You are an helpful data analyst assistant. Your name is 'Data Assistant'\n",
    "\"\"\""
   ]
  },
  {
   "cell_type": "markdown",
   "metadata": {},
   "source": [
    "### 2.2 Define structural output Object\n",
    "- We can use langchain's with_structured_output to bind the object, so that llm output can be parsed into the object."
   ]
  },
  {
   "cell_type": "code",
   "execution_count": 91,
   "metadata": {},
   "outputs": [],
   "source": [
    "from langchain_core.pydantic_v1 import BaseModel, Field\n",
    "\n",
    "class Intent(BaseModel):\n",
    "    \"\"\"The intent of the user query.\"\"\"\n",
    "    intent: Literal[\"normal_search\",\"reject_search\",\"agent_search\",\"knowledge_search\",\"normal_chat\"] = Field(description=\"The intent of the user query\")\n",
    "    # intent: str = Field(description=\"The intent of the user query\")\n",
    "    slot: List[str] = Field(default=[], description=\"The slot of the user query\")\n",
    "    \n",
    "\n",
    "class Task(BaseModel):\n",
    "    \"\"\"a  sub problem.\"\"\"\n",
    "    task:str = Field(description=\"a sub-problem\")\n",
    "    \n",
    "    \n",
    "class Tasks(BaseModel):\n",
    "    \"\"\"a list of sub problems.\"\"\"\n",
    "    tasks: List[Task] = Field(description=\"A list of sub problems which decomposed from the original problem\",\n",
    "                             min_items=1,\n",
    "                             max_items=4,\n",
    "        )\n",
    "    @property\n",
    "    def to_str(self) -> str:\n",
    "        \"\"\"Return a string representation of the tasks.\"\"\"\n",
    "        return \"\\n\".join([task.task for task in self.tasks])\n",
    "    \n",
    "    @property\n",
    "    def to_str_arr(self) -> List[str]:\n",
    "        \"\"\"Return a list of string  representation of the tasks.\"\"\"\n",
    "        return [task.task for task in self.tasks]\n",
    "    \n",
    "class Code(BaseModel):\n",
    "    \"\"\"sql code.\"\"\"\n",
    "    code:str = Field(description=\"sql code\")"
   ]
  },
  {
   "cell_type": "markdown",
   "metadata": {},
   "source": [
    "- Test Run"
   ]
  },
  {
   "cell_type": "code",
   "execution_count": 92,
   "metadata": {},
   "outputs": [
    {
     "data": {
      "text/plain": [
       "Intent(intent='knowledge_search', slot=[])"
      ]
     },
     "execution_count": 92,
     "metadata": {},
     "output_type": "execute_result"
    }
   ],
   "source": [
    "prompt =  ChatPromptTemplate.from_messages(\n",
    "    [\n",
    "        (\n",
    "            \"system\",\n",
    "            intent_system_prompt\n",
    "        ),\n",
    "        MessagesPlaceholder(variable_name=\"messages\", optional=True)\n",
    "    ])\n",
    "chain =  prompt | llm.with_structured_output(Intent)\n",
    "chain.invoke({\"messages\":[HumanMessage(content=\"Tell me a joke about cats\")]})"
   ]
  },
  {
   "cell_type": "code",
   "execution_count": 93,
   "metadata": {},
   "outputs": [
    {
     "data": {
      "text/plain": [
       "Intent(intent='agent_search', slot=[])"
      ]
     },
     "execution_count": 93,
     "metadata": {},
     "output_type": "execute_result"
    }
   ],
   "source": [
    "chain.invoke({\"messages\":[HumanMessage(content=\"6月份酒店的订单为什么下降了\")]})"
   ]
  },
  {
   "cell_type": "code",
   "execution_count": 94,
   "metadata": {},
   "outputs": [
    {
     "data": {
      "text/plain": [
       "Intent(intent='normal_search', slot=['6月', '订单总数'])"
      ]
     },
     "execution_count": 94,
     "metadata": {},
     "output_type": "execute_result"
    }
   ],
   "source": [
    "chain.invoke({\"messages\":[HumanMessage(content=\"6月份订单总数是\")]})"
   ]
  },
  {
   "cell_type": "markdown",
   "metadata": {},
   "source": [
    "### 2.3 Define nodes for the graph"
   ]
  },
  {
   "cell_type": "code",
   "execution_count": 95,
   "metadata": {},
   "outputs": [],
   "source": [
    "async def normal_chat(state:AgentState):\n",
    "    \"\"\"\n",
    "    Pure chat with user\n",
    "    \n",
    "    Args:\n",
    "        state (messages): The current state\n",
    "\n",
    "    Returns:\n",
    "         dict: The updated state\n",
    "    \"\"\"\n",
    "    messages = state['messages']\n",
    "    print(messages)\n",
    "    env_var =  state[\"env_var\"]\n",
    "    prompt = ChatPromptTemplate.from_messages(\n",
    "    [\n",
    "        (\n",
    "            \"system\",\n",
    "            normal_chat_system_prompt\n",
    "        ),\n",
    "        MessagesPlaceholder(variable_name=\"messages\", optional=True)\n",
    "    ])\n",
    "\n",
    "    chain = prompt | llm \n",
    "    response  = chain.invoke({\"messages\":messages})\n",
    "    return {\"messages\":[response],\"env_var\":{**env_var}}\n",
    "\n",
    "    "
   ]
  },
  {
   "cell_type": "code",
   "execution_count": 96,
   "metadata": {},
   "outputs": [],
   "source": [
    "async def intention_detect(state:AgentState):\n",
    "    \"\"\"\n",
    "    Detect the intention of user \n",
    "    \n",
    "    Args:\n",
    "        state (messages): The current state\n",
    "\n",
    "    Returns:\n",
    "         dict: The updated state\n",
    "    \"\"\"\n",
    "    print(\"---intention_detect---\")\n",
    "    messages = state['messages']\n",
    "    query  = messages[-1].content\n",
    "    env_var =  state[\"env_var\"]\n",
    "\n",
    "    prompt = ChatPromptTemplate.from_messages(\n",
    "    [\n",
    "        (\n",
    "            \"system\",\n",
    "            intent_system_prompt\n",
    "        ),\n",
    "        MessagesPlaceholder(variable_name=\"messages\", optional=True)\n",
    "    ])\n",
    "    structured_llm = llm.with_structured_output(Intent)\n",
    "\n",
    "    chain = prompt | structured_llm\n",
    "    response = chain.invoke({\"messages\":messages})\n",
    "    \n",
    "    return {\"env_var\":{**env_var,\"query\":query,\"intent\":response.intent}}\n",
    "    \n"
   ]
  },
  {
   "cell_type": "code",
   "execution_count": 97,
   "metadata": {},
   "outputs": [],
   "source": [
    "async def route_intent(state:AgentState):\n",
    "    \"\"\"\n",
    "    Route by intent \n",
    "    \n",
    "    Args:\n",
    "        state (messages): The current state\n",
    "\n",
    "    Returns:\n",
    "         dict: The updated state with outline\n",
    "    \"\"\"\n",
    "    print(\"---route_intent---\")\n",
    "    env_var =  state[\"env_var\"]\n",
    "    intent = env_var.get(\"intent\")\n",
    "    if intent == 'normal_chat':\n",
    "        return \"normal_chat\"\n",
    "    \n",
    "    elif intent == 'normal_search':\n",
    "        return \"normal_search\"\n",
    "    \n",
    "    elif intent == 'agent_search':\n",
    "        return \"agent_search\"\n",
    "    else:\n",
    "        return END\n",
    "    "
   ]
  },
  {
   "cell_type": "markdown",
   "metadata": {},
   "source": [
    "### 2.4 Examples for Prompt \n",
    "- You can change the example prompt to your own prompt."
   ]
  },
  {
   "cell_type": "code",
   "execution_count": 148,
   "metadata": {},
   "outputs": [],
   "source": [
    "# table_schema_data=\"\"\"\n",
    "# \"\"\"\n",
    "\n",
    "sql_guidance=\"\"\"\n",
    "\"\"\"\n",
    "\n",
    "AGENT_COT_EXAMPLE = \"\"\"\n",
    "question: Why did the order sales volume of commodities decline in June?\n",
    "tables : \n",
    "\n",
    "interactions,The data on users' interactions with products, including users' browsing, purchasing, and other behaviors towards the products, are recorded.\n",
    "items,The product information table records the price, category, description, and other information for each product\n",
    "users,The user information table records the age and gender of each user.\n",
    "\n",
    "The analysis approach is as follows:\n",
    "\n",
    "1. Analyze the total sales volume and sales revenue of the top 10 products.\n",
    "2. Analyze the purchase situation of the top 10 products by different genders.\n",
    "3. Analyze the most popular product category with the highest purchase rate.\n",
    "\n",
    "The corresponding query structure is as follows:\n",
    "answer:\n",
    "```json\n",
    "{\"tasks\":[\n",
    "    {\"task\": \"Analyze the total sales volume and sales revenue of the top 10 products.\"},\n",
    "    {\"task\": \"Analyze the purchase situation of the top 10 products by different genders\"},\n",
    "    {\"task\": \"Analyze the most popular product category with the highest purchase rate.\"}]\n",
    "}\n",
    "```\n",
    "\"\"\""
   ]
  },
  {
   "cell_type": "code",
   "execution_count": 149,
   "metadata": {},
   "outputs": [],
   "source": [
    "async def normal_search(state:AgentState):\n",
    "    \"\"\"Only componse the user query as a task\n",
    "\n",
    "    Args:\n",
    "        state (AgentState): _description_\n",
    "\n",
    "    Returns:\n",
    "        _type_: _description_\n",
    "    \"\"\"\n",
    "    print(\"---normal_search---\")\n",
    "    messages = state['messages']\n",
    "    env_var =  state[\"env_var\"]\n",
    "    tasks = Tasks(tasks=[Task(task=messages[-1].content)])\n",
    "    return {\"env_var\":{**env_var,\"tasks\":tasks}}"
   ]
  },
  {
   "cell_type": "code",
   "execution_count": 105,
   "metadata": {},
   "outputs": [],
   "source": [
    "async def agent_search(state:AgentState):\n",
    "    \"\"\"use cot agent to decompose the query into tasks\n",
    "\n",
    "    Args:\n",
    "        state (AgentState): _description_\n",
    "\n",
    "    Returns:\n",
    "        _type_: _description_\n",
    "    \"\"\"\n",
    "    print(\"---agent_search---\")\n",
    "    messages = state['messages']\n",
    "    env_var =  state[\"env_var\"]\n",
    "\n",
    "    prompt = ChatPromptTemplate.from_messages(\n",
    "    [\n",
    "        (\n",
    "            \"system\",\n",
    "            agent_system_prompt\n",
    "        ),\n",
    "        MessagesPlaceholder(variable_name=\"messages\", optional=True)\n",
    "    ])\n",
    "\n",
    "    chain = (\n",
    "            #table_schema_data is retreived by invoke fetch_ddls\n",
    "             {\"table_schema_data\":RunnableLambda(fetch_ddls).bind(connection= mysql_connection),\n",
    "              \"sql_guidance\":itemgetter(\"sql_guidance\"),\n",
    "              \"example_data\":itemgetter(\"example_data\"),\n",
    "              \"messages\":itemgetter(\"messages\"),              \n",
    "              }) | prompt | llm.with_structured_output(Tasks)\n",
    "    response = chain.invoke({\"messages\":messages,\"sql_guidance\":sql_guidance,\"example_data\":AGENT_COT_EXAMPLE})\n",
    "    \n",
    "    return {\"env_var\":{**env_var,\"tasks\":response}}"
   ]
  },
  {
   "cell_type": "markdown",
   "metadata": {},
   "source": [
    "### 2.5 Build a simple graph and test"
   ]
  },
  {
   "cell_type": "code",
   "execution_count": 106,
   "metadata": {},
   "outputs": [],
   "source": [
    "# Create the graph and add nodes\n",
    "builder = StateGraph(AgentState)\n",
    "builder.add_node(\"intention_detect\",intention_detect)\n",
    "builder.add_node(\"normal_chat\",normal_chat)\n",
    "builder.add_node(\"agent_search\",agent_search)\n",
    "builder.add_node(\"normal_search\",normal_search)\n",
    "\n",
    "# Add edges to the graph\n",
    "builder.add_edge(START, \"intention_detect\")\n",
    "\n",
    "builder.add_conditional_edges(\"intention_detect\", route_intent)\n",
    "builder.add_edge(\"normal_chat\",END)\n",
    "builder.add_edge(\"normal_search\",END)\n",
    "builder.add_edge(\"agent_search\",END)\n",
    "\n",
    "# Compile the graph\n",
    "workflow = builder.compile()"
   ]
  },
  {
   "cell_type": "markdown",
   "metadata": {},
   "source": [
    "- plot the graph"
   ]
  },
  {
   "cell_type": "code",
   "execution_count": 107,
   "metadata": {},
   "outputs": [
    {
     "data": {
      "image/png": "[encoded data removed]",
      "text/plain": [
       "<IPython.core.display.Image object>"
      ]
     },
     "execution_count": 107,
     "metadata": {},
     "output_type": "execute_result"
    }
   ],
   "source": [
    "\n",
    "from IPython.display import Image\n",
    "\n",
    "Image(workflow.get_graph().draw_png())"
   ]
  },
  {
   "cell_type": "markdown",
   "metadata": {},
   "source": [
    "- Test Run"
   ]
  },
  {
   "cell_type": "code",
   "execution_count": 150,
   "metadata": {},
   "outputs": [],
   "source": [
    "# query = \"最近一周的订单总数\"\n",
    "query = \"6月的销售情况为什么下降了\"\n",
    "# query = \"你好，你是谁\"\n",
    "steps = []\n",
    "init_state = {\n",
    "    \"env_var\":{},\n",
    "    \"messages\":[HumanMessage(content=query)]\n",
    "}\n"
   ]
  },
  {
   "cell_type": "code",
   "execution_count": 151,
   "metadata": {},
   "outputs": [
    {
     "name": "stdout",
     "output_type": "stream",
     "text": [
      "---intention_detect---\n"
     ]
    },
    {
     "name": "stdout",
     "output_type": "stream",
     "text": [
      "---route_intent---\n",
      "Output from node 'intention_detect':\n",
      "---\n",
      "{'env_var': {'query': '6月的销售情况为什么下降了', 'intent': 'agent_search'}}\n",
      "\n",
      "---\n",
      "\n",
      "---agent_search---\n",
      "Output from node 'agent_search':\n",
      "---\n",
      "{'env_var': {'query': '6月的销售情况为什么下降了', 'intent': 'agent_search', 'tasks': Tasks(tasks=[Task(task='分析每月销售总额的变化趋势'), Task(task='分析热门商品类别的月销售额变化'), Task(task='分析不同年龄段用户的月购买情况'), Task(task='分析促销活动对月销售额的影响')])}}\n",
      "\n",
      "---\n",
      "\n",
      "---text_to_sql---\n",
      "---execute_sql---\n",
      "---should_continue---\n",
      "---text_to_sql---\n",
      "---execute_sql---\n",
      "---should_continue---\n",
      "---text_to_sql---\n",
      "---execute_sql---\n",
      "---should_continue---\n",
      "Output from node 'txt2sql_subgraph':\n",
      "---\n",
      "{'messages': [HumanMessage(content='6月的销售情况为什么下降了')], 'env_var': {'query': '6月的销售情况为什么下降了', 'intent': 'agent_search', 'tasks': Tasks(tasks=[Task(task='分析每月销售总额的变化趋势'), Task(task='分析热门商品类别的月销售额变化'), Task(task='分析不同年龄段用户的月购买情况'), Task(task='分析促销活动对月销售额的影响')]), 'codes': [Code(code=\"SELECT \\n  EXTRACT(YEAR_MONTH FROM FROM_UNIXTIME(`timestamp`)) AS `year_month`,\\n  SUM(`items`.`price`) AS `total_sales`\\nFROM `interactions` \\nJOIN `items` ON `interactions`.`item_id` = `items`.`item_id`\\nWHERE `event_type` = 'purchase'\\nGROUP BY `year_month`\\nORDER BY `year_month`;\"), Code(code=\"SELECT \\n  `category_l1`, \\n  DATE_FORMAT(FROM_UNIXTIME(`timestamp`), '%Y-%m') AS `month`,\\n  SUM(`price`) AS `monthly_sales`\\nFROM \\n  `interactions` \\n  JOIN `items` ON `interactions`.`item_id` = `items`.`item_id`\\nWHERE\\n  `event_type` = 'purchase'\\nGROUP BY\\n  `category_l1`,\\n  `month`\\nORDER BY\\n  `monthly_sales` DESC\\nLIMIT 100;\"), Code(code=\"SELECT \\n  u.`age` / 10 * 10 AS age_group,\\n  COUNT(DISTINCT i.`user_id`) AS num_users,\\n  COUNT(DISTINCT i.`item_id`) AS num_items_purchased,\\n  ROUND(COUNT(DISTINCT i.`item_id`) / COUNT(DISTINCT i.`user_id`), 2) AS items_per_user\\nFROM interactions i\\nJOIN users u ON i.`user_id` = u.`user_id`\\nWHERE i.`event_type` = 'purchase'\\n  AND i.`timestamp` >= UNIX_TIMESTAMP(DATE_FORMAT(CURDATE(), '%Y-%m-01'))\\n  AND i.`timestamp` < UNIX_TIMESTAMP(DATE_FORMAT(DATE_ADD(CURDATE(), INTERVAL 1 MONTH), '%Y-%m-01'))  \\nGROUP BY age_group\\nORDER BY age_group;\"), Code(code=\"SELECT \\n  SUM(CASE WHEN `promoted` = 'true' THEN `price` ELSE 0 END) AS promoted_revenue,\\n  SUM(CASE WHEN `promoted` = 'false' THEN `price` ELSE 0 END) AS non_promoted_revenue\\nFROM items i\\nJOIN interactions it ON i.`item_id` = it.`item_id`\\nWHERE it.`event_type` = 'purchase'\\n  AND it.`timestamp` BETWEEN UNIX_TIMESTAMP(DATE_FORMAT(CURDATE(), '%Y-%m-01')) \\n                       AND UNIX_TIMESTAMP(LAST_DAY(CURDATE()))\\nGROUP BY `promoted`;\")], 'loop_cnt': 3, 'query_results': [{'data':    year_month    total_sales\n",
      "0      202305  206510.069533\n",
      "1      202306  254588.349748\n",
      "2      202307  156205.439767, 'sql': \"SELECT \\n  EXTRACT(YEAR_MONTH FROM FROM_UNIXTIME(`timestamp`)) AS `year_month`,\\n  SUM(`items`.`price`) AS `total_sales`\\nFROM `interactions` \\nJOIN `items` ON `interactions`.`item_id` = `items`.`item_id`\\nWHERE `event_type` = 'purchase'\\nGROUP BY `year_month`\\nORDER BY `year_month`;\", 'status_code': 200, 'error_info': ''}, {'data':        category_l1    month  monthly_sales\n",
      "0        furniture  2023-06   52605.179909\n",
      "1      instruments  2023-06   49067.149517\n",
      "2      instruments  2023-05   42150.519440\n",
      "3        furniture  2023-05   41702.519852\n",
      "4        furniture  2023-07   37655.829826\n",
      "5      electronics  2023-06   30164.099789\n",
      "6      instruments  2023-07   29588.959652\n",
      "7          apparel  2023-06   25083.910339\n",
      "8          apparel  2023-05   22444.200237\n",
      "9      accessories  2023-06   17558.239941\n",
      "10      housewares  2023-06   16172.439957\n",
      "11     electronics  2023-05   16166.179852\n",
      "12     accessories  2023-05   14745.570032\n",
      "13         apparel  2023-07   14219.790205\n",
      "14     electronics  2023-07   14171.459896\n",
      "15      housewares  2023-05   13091.810026\n",
      "16          floral  2023-06   12432.769978\n",
      "17        seasonal  2023-06   11859.200060\n",
      "18     accessories  2023-07   11331.850008\n",
      "19          floral  2023-05   11319.849945\n",
      "20        footwear  2023-06   10600.270130\n",
      "21        seasonal  2023-05   10297.490057\n",
      "22        footwear  2023-05   10093.539999\n",
      "23          floral  2023-07    9187.080036\n",
      "24      housewares  2023-07    8927.559986\n",
      "25        outdoors  2023-06    8709.119944\n",
      "26       homedecor  2023-06    8477.290188\n",
      "27        seasonal  2023-07    8118.880064\n",
      "28        outdoors  2023-05    7991.179979\n",
      "29        footwear  2023-07    7903.810040\n",
      "30       homedecor  2023-05    7569.600145\n",
      "31         jewelry  2023-06    5722.480043\n",
      "32       homedecor  2023-07    4833.020098\n",
      "33        outdoors  2023-07    3821.489958\n",
      "34         jewelry  2023-05    2840.679993\n",
      "35          beauty  2023-05    2775.540009\n",
      "36         jewelry  2023-07    2597.740019\n",
      "37          beauty  2023-06    2146.589985\n",
      "38       groceries  2023-06    1443.419971\n",
      "39          beauty  2023-07    1314.740004\n",
      "40       groceries  2023-05    1279.629975\n",
      "41           tools  2023-06    1071.389986\n",
      "42       groceries  2023-07    1024.929980\n",
      "43           books  2023-06     976.600012\n",
      "44           tools  2023-05     976.419987\n",
      "45           tools  2023-07     705.599991\n",
      "46           books  2023-05     626.740005\n",
      "47           books  2023-07     479.800005\n",
      "48    food service  2023-06     426.400000\n",
      "49    food service  2023-05     357.700000\n",
      "50    food service  2023-07     280.000000\n",
      "51  cold dispensed  2023-05      46.500000\n",
      "52  cold dispensed  2023-06      45.500000\n",
      "53    salty snacks  2023-05      33.200000\n",
      "54  cold dispensed  2023-07      31.500000\n",
      "55    salty snacks  2023-06      25.100000\n",
      "56    salty snacks  2023-07      11.400000\n",
      "57   hot dispensed  2023-06       1.200000\n",
      "58   hot dispensed  2023-05       1.200000, 'sql': \"SELECT \\n  `category_l1`, \\n  DATE_FORMAT(FROM_UNIXTIME(`timestamp`), '%Y-%m') AS `month`,\\n  SUM(`price`) AS `monthly_sales`\\nFROM \\n  `interactions` \\n  JOIN `items` ON `interactions`.`item_id` = `items`.`item_id`\\nWHERE\\n  `event_type` = 'purchase'\\nGROUP BY\\n  `category_l1`,\\n  `month`\\nORDER BY\\n  `monthly_sales` DESC\\nLIMIT 100;\", 'status_code': 200, 'error_info': ''}, {'data': Empty DataFrame\n",
      "Columns: [age_group, num_users, num_items_purchased, items_per_user]\n",
      "Index: [], 'sql': \"SELECT \\n  u.`age` / 10 * 10 AS age_group,\\n  COUNT(DISTINCT i.`user_id`) AS num_users,\\n  COUNT(DISTINCT i.`item_id`) AS num_items_purchased,\\n  ROUND(COUNT(DISTINCT i.`item_id`) / COUNT(DISTINCT i.`user_id`), 2) AS items_per_user\\nFROM interactions i\\nJOIN users u ON i.`user_id` = u.`user_id`\\nWHERE i.`event_type` = 'purchase'\\n  AND i.`timestamp` >= UNIX_TIMESTAMP(DATE_FORMAT(CURDATE(), '%Y-%m-01'))\\n  AND i.`timestamp` < UNIX_TIMESTAMP(DATE_FORMAT(DATE_ADD(CURDATE(), INTERVAL 1 MONTH), '%Y-%m-01'))  \\nGROUP BY age_group\\nORDER BY age_group;\", 'status_code': 200, 'error_info': ''}, {'data': Empty DataFrame\n",
      "Columns: [promoted_revenue, non_promoted_revenue]\n",
      "Index: [], 'sql': \"SELECT \\n  SUM(CASE WHEN `promoted` = 'true' THEN `price` ELSE 0 END) AS promoted_revenue,\\n  SUM(CASE WHEN `promoted` = 'false' THEN `price` ELSE 0 END) AS non_promoted_revenue\\nFROM items i\\nJOIN interactions it ON i.`item_id` = it.`item_id`\\nWHERE it.`event_type` = 'purchase'\\n  AND it.`timestamp` BETWEEN UNIX_TIMESTAMP(DATE_FORMAT(CURDATE(), '%Y-%m-01')) \\n                       AND UNIX_TIMESTAMP(LAST_DAY(CURDATE()))\\nGROUP BY `promoted`;\", 'status_code': 200, 'error_info': ''}], 'error_info': ['', '', '', '']}}\n",
      "\n",
      "---\n",
      "\n",
      "---generate_response---\n",
      "Output from node 'generate_response':\n",
      "---\n",
      "{'env_var': {'query': '6月的销售情况为什么下降了', 'intent': 'agent_search', 'tasks': Tasks(tasks=[Task(task='分析每月销售总额的变化趋势'), Task(task='分析热门商品类别的月销售额变化'), Task(task='分析不同年龄段用户的月购买情况'), Task(task='分析促销活动对月销售额的影响')]), 'codes': [Code(code=\"SELECT \\n  EXTRACT(YEAR_MONTH FROM FROM_UNIXTIME(`timestamp`)) AS `year_month`,\\n  SUM(`items`.`price`) AS `total_sales`\\nFROM `interactions` \\nJOIN `items` ON `interactions`.`item_id` = `items`.`item_id`\\nWHERE `event_type` = 'purchase'\\nGROUP BY `year_month`\\nORDER BY `year_month`;\"), Code(code=\"SELECT \\n  `category_l1`, \\n  DATE_FORMAT(FROM_UNIXTIME(`timestamp`), '%Y-%m') AS `month`,\\n  SUM(`price`) AS `monthly_sales`\\nFROM \\n  `interactions` \\n  JOIN `items` ON `interactions`.`item_id` = `items`.`item_id`\\nWHERE\\n  `event_type` = 'purchase'\\nGROUP BY\\n  `category_l1`,\\n  `month`\\nORDER BY\\n  `monthly_sales` DESC\\nLIMIT 100;\"), Code(code=\"SELECT \\n  u.`age` / 10 * 10 AS age_group,\\n  COUNT(DISTINCT i.`user_id`) AS num_users,\\n  COUNT(DISTINCT i.`item_id`) AS num_items_purchased,\\n  ROUND(COUNT(DISTINCT i.`item_id`) / COUNT(DISTINCT i.`user_id`), 2) AS items_per_user\\nFROM interactions i\\nJOIN users u ON i.`user_id` = u.`user_id`\\nWHERE i.`event_type` = 'purchase'\\n  AND i.`timestamp` >= UNIX_TIMESTAMP(DATE_FORMAT(CURDATE(), '%Y-%m-01'))\\n  AND i.`timestamp` < UNIX_TIMESTAMP(DATE_FORMAT(DATE_ADD(CURDATE(), INTERVAL 1 MONTH), '%Y-%m-01'))  \\nGROUP BY age_group\\nORDER BY age_group;\"), Code(code=\"SELECT \\n  SUM(CASE WHEN `promoted` = 'true' THEN `price` ELSE 0 END) AS promoted_revenue,\\n  SUM(CASE WHEN `promoted` = 'false' THEN `price` ELSE 0 END) AS non_promoted_revenue\\nFROM items i\\nJOIN interactions it ON i.`item_id` = it.`item_id`\\nWHERE it.`event_type` = 'purchase'\\n  AND it.`timestamp` BETWEEN UNIX_TIMESTAMP(DATE_FORMAT(CURDATE(), '%Y-%m-01')) \\n                       AND UNIX_TIMESTAMP(LAST_DAY(CURDATE()))\\nGROUP BY `promoted`;\")], 'loop_cnt': 3, 'query_results': [{'data':    year_month    total_sales\n",
      "0      202305  206510.069533\n",
      "1      202306  254588.349748\n",
      "2      202307  156205.439767, 'sql': \"SELECT \\n  EXTRACT(YEAR_MONTH FROM FROM_UNIXTIME(`timestamp`)) AS `year_month`,\\n  SUM(`items`.`price`) AS `total_sales`\\nFROM `interactions` \\nJOIN `items` ON `interactions`.`item_id` = `items`.`item_id`\\nWHERE `event_type` = 'purchase'\\nGROUP BY `year_month`\\nORDER BY `year_month`;\", 'status_code': 200, 'error_info': ''}, {'data':        category_l1    month  monthly_sales\n",
      "0        furniture  2023-06   52605.179909\n",
      "1      instruments  2023-06   49067.149517\n",
      "2      instruments  2023-05   42150.519440\n",
      "3        furniture  2023-05   41702.519852\n",
      "4        furniture  2023-07   37655.829826\n",
      "5      electronics  2023-06   30164.099789\n",
      "6      instruments  2023-07   29588.959652\n",
      "7          apparel  2023-06   25083.910339\n",
      "8          apparel  2023-05   22444.200237\n",
      "9      accessories  2023-06   17558.239941\n",
      "10      housewares  2023-06   16172.439957\n",
      "11     electronics  2023-05   16166.179852\n",
      "12     accessories  2023-05   14745.570032\n",
      "13         apparel  2023-07   14219.790205\n",
      "14     electronics  2023-07   14171.459896\n",
      "15      housewares  2023-05   13091.810026\n",
      "16          floral  2023-06   12432.769978\n",
      "17        seasonal  2023-06   11859.200060\n",
      "18     accessories  2023-07   11331.850008\n",
      "19          floral  2023-05   11319.849945\n",
      "20        footwear  2023-06   10600.270130\n",
      "21        seasonal  2023-05   10297.490057\n",
      "22        footwear  2023-05   10093.539999\n",
      "23          floral  2023-07    9187.080036\n",
      "24      housewares  2023-07    8927.559986\n",
      "25        outdoors  2023-06    8709.119944\n",
      "26       homedecor  2023-06    8477.290188\n",
      "27        seasonal  2023-07    8118.880064\n",
      "28        outdoors  2023-05    7991.179979\n",
      "29        footwear  2023-07    7903.810040\n",
      "30       homedecor  2023-05    7569.600145\n",
      "31         jewelry  2023-06    5722.480043\n",
      "32       homedecor  2023-07    4833.020098\n",
      "33        outdoors  2023-07    3821.489958\n",
      "34         jewelry  2023-05    2840.679993\n",
      "35          beauty  2023-05    2775.540009\n",
      "36         jewelry  2023-07    2597.740019\n",
      "37          beauty  2023-06    2146.589985\n",
      "38       groceries  2023-06    1443.419971\n",
      "39          beauty  2023-07    1314.740004\n",
      "40       groceries  2023-05    1279.629975\n",
      "41           tools  2023-06    1071.389986\n",
      "42       groceries  2023-07    1024.929980\n",
      "43           books  2023-06     976.600012\n",
      "44           tools  2023-05     976.419987\n",
      "45           tools  2023-07     705.599991\n",
      "46           books  2023-05     626.740005\n",
      "47           books  2023-07     479.800005\n",
      "48    food service  2023-06     426.400000\n",
      "49    food service  2023-05     357.700000\n",
      "50    food service  2023-07     280.000000\n",
      "51  cold dispensed  2023-05      46.500000\n",
      "52  cold dispensed  2023-06      45.500000\n",
      "53    salty snacks  2023-05      33.200000\n",
      "54  cold dispensed  2023-07      31.500000\n",
      "55    salty snacks  2023-06      25.100000\n",
      "56    salty snacks  2023-07      11.400000\n",
      "57   hot dispensed  2023-06       1.200000\n",
      "58   hot dispensed  2023-05       1.200000, 'sql': \"SELECT \\n  `category_l1`, \\n  DATE_FORMAT(FROM_UNIXTIME(`timestamp`), '%Y-%m') AS `month`,\\n  SUM(`price`) AS `monthly_sales`\\nFROM \\n  `interactions` \\n  JOIN `items` ON `interactions`.`item_id` = `items`.`item_id`\\nWHERE\\n  `event_type` = 'purchase'\\nGROUP BY\\n  `category_l1`,\\n  `month`\\nORDER BY\\n  `monthly_sales` DESC\\nLIMIT 100;\", 'status_code': 200, 'error_info': ''}, {'data': Empty DataFrame\n",
      "Columns: [age_group, num_users, num_items_purchased, items_per_user]\n",
      "Index: [], 'sql': \"SELECT \\n  u.`age` / 10 * 10 AS age_group,\\n  COUNT(DISTINCT i.`user_id`) AS num_users,\\n  COUNT(DISTINCT i.`item_id`) AS num_items_purchased,\\n  ROUND(COUNT(DISTINCT i.`item_id`) / COUNT(DISTINCT i.`user_id`), 2) AS items_per_user\\nFROM interactions i\\nJOIN users u ON i.`user_id` = u.`user_id`\\nWHERE i.`event_type` = 'purchase'\\n  AND i.`timestamp` >= UNIX_TIMESTAMP(DATE_FORMAT(CURDATE(), '%Y-%m-01'))\\n  AND i.`timestamp` < UNIX_TIMESTAMP(DATE_FORMAT(DATE_ADD(CURDATE(), INTERVAL 1 MONTH), '%Y-%m-01'))  \\nGROUP BY age_group\\nORDER BY age_group;\", 'status_code': 200, 'error_info': ''}, {'data': Empty DataFrame\n",
      "Columns: [promoted_revenue, non_promoted_revenue]\n",
      "Index: [], 'sql': \"SELECT \\n  SUM(CASE WHEN `promoted` = 'true' THEN `price` ELSE 0 END) AS promoted_revenue,\\n  SUM(CASE WHEN `promoted` = 'false' THEN `price` ELSE 0 END) AS non_promoted_revenue\\nFROM items i\\nJOIN interactions it ON i.`item_id` = it.`item_id`\\nWHERE it.`event_type` = 'purchase'\\n  AND it.`timestamp` BETWEEN UNIX_TIMESTAMP(DATE_FORMAT(CURDATE(), '%Y-%m-01')) \\n                       AND UNIX_TIMESTAMP(LAST_DAY(CURDATE()))\\nGROUP BY `promoted`;\", 'status_code': 200, 'error_info': ''}], 'error_info': ['', '', '', ''], 'final_response': '根据提供的数据,我们可以分析6月份销售额下降的原因如下:\\n\\n1. 总体销售额变化趋势\\n\\n从第一个查询的结果可以看出,2023年6月的总销售额(254588.35)比5月(206510.07)有所上升,但7月(156205.44)又出现了明显下降。因此,6月份整体销售额并未下降,反而较5月有所增长。\\n\\n2. 热门商品类别的月销售额变化\\n\\n第二个查询结果显示,在6月份,家具(furniture)、乐器(instruments)和电子产品(electronics)等热门类别的月销售额较5月都有所增长。这说明6月份主要商品类别的销售情况良好,没有出现下滑。\\n\\n3. 不同年龄段用户购买情况\\n\\n第三个查询的结果为空,无法分析不同年龄段用户在6月的购买情况。\\n\\n4. 促销活动影响\\n\\n第四个查询的结果也为空,无法分析促销活动对6月销售额的影响。\\n\\n综合以上分析,根据提供的数据,我们无法得出6月份销售额下降的明确原因。相反,数据显示6月份总销售额和主要商品类别的销售额都较5月有所增长。如果6月份确实出现销售下降,可能原因有:\\n\\n1) 数据不完整,缺少反映6月销售下降的关键数据。\\n2) 除了提供的几个分析维度外,还有其他影响6月销售的重要因素未被考虑,如营销活动、价格策略变化等。\\n3) 7月份销售大幅下滑,可能是造成6月份销售\"相对\"下降的主因。\\n\\n因此,如果要彻底分析6月销售下降的原因,需要提供更全面的数据,并从多个角度综合分析影响销售的各种可能因素。'}}\n",
      "\n",
      "---\n",
      "\n"
     ]
    }
   ],
   "source": [
    "async for event in workflow.astream(input=init_state):\n",
    "    steps.append(event)\n",
    "    for key, value in event.items():\n",
    "        print(f\"Output from node '{key}':\")\n",
    "        print(\"---\")\n",
    "        print(value)\n",
    "    print(\"\\n---\\n\")"
   ]
  },
  {
   "cell_type": "markdown",
   "metadata": {},
   "source": [
    "## 3. Create a code generation and execution sub graph"
   ]
  },
  {
   "cell_type": "markdown",
   "metadata": {},
   "source": [
    "### 3.1 Create text 2 sql chain"
   ]
  },
  {
   "cell_type": "code",
   "execution_count": 152,
   "metadata": {},
   "outputs": [],
   "source": [
    "TOP_K = 100\n",
    "MYSQL_DIALECT_PROMPT_CLAUDE3 = \"\"\"\n",
    "You are a data analysis expert and proficient in MySQL. Given an input question, create a syntactically correct MySQL query to run.\n",
    "Unless the user specifies in the question a specific number of examples to obtain, query for at most {top_k} results using the LIMIT clause as per MySQL. \n",
    "Never query for all columns from a table. You must query only the columns that are needed to answer the question. Wrap each column name in backticks (`) to denote them as delimited identifiers.\n",
    "Pay attention to use only the column names you can see in the tables below. Be careful to not query for columns that do not exist. Also, pay attention to which column is in which table.\n",
    "Pay attention to use CURDATE() function to get the current date, if the question involves \"today\". Aside from giving the SQL answer, concisely explain yourself after giving the answer\n",
    "\"\"\".format(top_k=TOP_K)\n",
    "\n",
    "TEXT2SQL_RPOMPT= MYSQL_DIALECT_PROMPT_CLAUDE3 + \\\n",
    "\"\"\"\n",
    "Assume a database with the following tables and columns exists:\n",
    "Given the following database schema, transform the following natural language requests into valid SQL queries.\n",
    "<table_schema>\n",
    "{table_info}\n",
    "</table_schema>\n",
    "\n",
    "Here are some examples of generated SQL using natural language.\n",
    "<examples>\n",
    "{examples}\n",
    "</examples> \n",
    "\n",
    "Here are some ner info to help generate SQL.\n",
    "<ner_info>\n",
    "{ner_info}\n",
    "</ner_info> \n",
    "\n",
    "Think about the sql question before continuing. If it's not about writing SQL statements, say 'Sorry, please ask something relating to querying tables'.\n",
    "Think about your answer first before you respond.  \n",
    "\"\"\""
   ]
  },
  {
   "cell_type": "code",
   "execution_count": 153,
   "metadata": {},
   "outputs": [],
   "source": [
    "def single_text_generate_code(messages):\n",
    "    \"\"\"generate sql code from single task\n",
    "\n",
    "    Args:\n",
    "        messages (_type_): chat messages\n",
    "\n",
    "    Returns:\n",
    "        _type_: Code object\n",
    "    \"\"\"\n",
    "    prompt = ChatPromptTemplate.from_messages(\n",
    "    [\n",
    "        (\n",
    "            \"system\",\n",
    "            TEXT2SQL_RPOMPT,\n",
    "        ),\n",
    "        MessagesPlaceholder(variable_name=\"messages\", optional=True)\n",
    "    ])\n",
    "    chain = ({\"table_info\":RunnableLambda(fetch_ddls).bind(connection= mysql_connection),\n",
    "              \"examples\":itemgetter(\"examples\"),\n",
    "              \"ner_info\":itemgetter(\"ner_info\"),\n",
    "              \"messages\":itemgetter(\"messages\")\n",
    "              }) | prompt | llm.with_structured_output(Code)\n",
    "    response = chain.invoke({\"messages\":messages,\"ner_info\":\"\",\"examples\":\"\"})\n",
    "    return response\n",
    "    "
   ]
  },
  {
   "cell_type": "markdown",
   "metadata": {},
   "source": [
    "- test run"
   ]
  },
  {
   "cell_type": "code",
   "execution_count": 154,
   "metadata": {},
   "outputs": [
    {
     "data": {
      "text/plain": [
       "Code(code='SELECT COUNT(*) AS total_orders\\nFROM interactions;')"
      ]
     },
     "execution_count": 154,
     "metadata": {},
     "output_type": "execute_result"
    }
   ],
   "source": [
    "runnable_gen_task = RunnableLambda(single_text_generate_code)\n",
    "code = runnable_gen_task.invoke([HumanMessage(content=\"查询订单总数\")])\n",
    "code"
   ]
  },
  {
   "cell_type": "markdown",
   "metadata": {},
   "source": [
    "- Test run in parrallel"
   ]
  },
  {
   "cell_type": "code",
   "execution_count": 155,
   "metadata": {},
   "outputs": [
    {
     "data": {
      "text/plain": [
       "[Code(code='SELECT COUNT(*) AS total_orders\\nFROM interactions;'),\n",
       " Code(code='SELECT COUNT(DISTINCT `user_id`) AS total_users\\nFROM `users`;')]"
      ]
     },
     "execution_count": 155,
     "metadata": {},
     "output_type": "execute_result"
    }
   ],
   "source": [
    "# Test run in parrallel\n",
    "await runnable_gen_task.abatch([[HumanMessage(content=\"查询订单总数\")],\n",
    "                                [HumanMessage(content=\"查询用户总数\")]])"
   ]
  },
  {
   "cell_type": "markdown",
   "metadata": {},
   "source": [
    "- Test execution"
   ]
  },
  {
   "cell_type": "code",
   "execution_count": 156,
   "metadata": {},
   "outputs": [
    {
     "data": {
      "text/plain": [
       "[{'data':    total_orders\n",
       "  0        675004,\n",
       "  'sql': 'SELECT COUNT(*) AS total_orders\\nFROM interactions;',\n",
       "  'status_code': 200,\n",
       "  'error_info': ''}]"
      ]
     },
     "execution_count": 156,
     "metadata": {},
     "output_type": "execute_result"
    }
   ],
   "source": [
    "sql = \"SELECT COUNT(*) AS total_orders\\nFROM interactions;\"\n",
    "db_result = RunnableLambda(get_sql_result_tool).bind(connection=mysql_connection).batch([sql])\n",
    "db_result"
   ]
  },
  {
   "cell_type": "markdown",
   "metadata": {},
   "source": [
    "### 3.2 create text2sql and execution subGraph\n",
    "- This subgraph is used to create the text2sql and execution sql code in parralel\n",
    "- It has reflect loop to feedback the execution error and re-gnerate the sql code"
   ]
  },
  {
   "cell_type": "code",
   "execution_count": 157,
   "metadata": {},
   "outputs": [],
   "source": [
    "class ChildState(TypedDict):\n",
    "    \"\"\"The messages in the conversation.\"\"\"\n",
    "    messages: Annotated[Sequence[BaseMessage], operator.add]\n",
    "    env_var: Optional[Annotated[Dict[str, Any], operator.ior]]"
   ]
  },
  {
   "cell_type": "code",
   "execution_count": 123,
   "metadata": {},
   "outputs": [],
   "source": [
    "async def text_to_sql(state:ChildState):\n",
    "    print(\"---text_to_sql---\")\n",
    "    messages = state['messages']\n",
    "    env_var =  state[\"env_var\"]\n",
    "    error_info = env_var.get('error_info',[])\n",
    "    \n",
    "    # loops counter\n",
    "    loop_cnt = 1 if not env_var.get('loop_cnt') else env_var['loop_cnt']+1\n",
    "    tasks_obj = env_var[\"tasks\"]\n",
    "    if not error_info:\n",
    "        task_arrs = [ [HumanMessage(content=task_obj.task)] for task_obj  in tasks_obj.tasks]\n",
    "    else:\n",
    "        # if there is error in last round, then fix it\n",
    "        task_arrs = [ [HumanMessage(content=task_obj.task),\n",
    "                       AIMessage(content=info), \n",
    "                       HumanMessage(content='fix the code')] if info else [HumanMessage(content=task_obj.task)]\n",
    "                            for task_obj, info in zip(tasks_obj.tasks,error_info)]\n",
    "    # print(task_arrs)\n",
    "    # Run in parallel\n",
    "    codes = await RunnableLambda(single_text_generate_code).abatch(task_arrs)\n",
    "    return {\"env_var\":{**env_var,\"codes\":codes,\"loop_cnt\":loop_cnt}}\n",
    "    "
   ]
  },
  {
   "cell_type": "code",
   "execution_count": 124,
   "metadata": {},
   "outputs": [],
   "source": [
    "MAX_LOOPS = 3\n",
    "async def execute_sql(state:ChildState):\n",
    "    print(\"---execute_sql---\")\n",
    "    messages = state['messages']\n",
    "    env_var =  state[\"env_var\"]\n",
    "    codes = env_var[\"codes\"]\n",
    "    sql_codes = [code.code for code in codes]\n",
    "    \n",
    "    results = await RunnableLambda(get_sql_result_tool).bind(connection=mysql_connection).abatch(sql_codes)\n",
    "    \n",
    "    #retrieve error to construct message\n",
    "    error_info = []\n",
    "    \n",
    "    for ret in results:\n",
    "        content = ''\n",
    "        if ret['status_code'] != 200:\n",
    "            content = f\"The sql:\\n```sql\\n{ret['sql']}```\\nhas execution errors:{ret['error_info']}\\n\"\n",
    "            print(ret['error_info'])\n",
    "        error_info.append(content)\n",
    "        \n",
    "    \n",
    "    return {\"env_var\":{**env_var,\"query_results\":results,\"error_info\":error_info}}\n",
    "\n",
    "async def should_continue(state:ChildState):\n",
    "    \"\"\"\n",
    "    a conditional edge \n",
    "    \n",
    "    Args:\n",
    "        state (messages): The current state\n",
    "\n",
    "    Returns:\n",
    "         str: the node name\n",
    "    \"\"\"\n",
    "    print(\"---should_continue---\")\n",
    "    env_var =  state[\"env_var\"]\n",
    "    error_info = env_var['error_info']\n",
    "    loop_cnt = env_var['loop_cnt']\n",
    "    \n",
    "    #if reach the max loops the end\n",
    "    if loop_cnt >= MAX_LOOPS or (not error_info) :\n",
    "         return END\n",
    "    else:\n",
    "        return 'text_to_sql'\n",
    "    "
   ]
  },
  {
   "cell_type": "code",
   "execution_count": 125,
   "metadata": {},
   "outputs": [],
   "source": [
    "child_builder = StateGraph(ChildState)\n",
    "child_builder.add_node(\"text_to_sql\",text_to_sql)\n",
    "child_builder.add_node(\"execute_sql\",execute_sql)\n",
    "\n",
    "child_builder.add_edge(START, \"text_to_sql\")\n",
    "child_builder.add_edge(\"text_to_sql\", \"execute_sql\")\n",
    "child_builder.add_conditional_edges(\"execute_sql\",should_continue)\n",
    "\n",
    "child_workflow = child_builder.compile()\n",
    "\n"
   ]
  },
  {
   "cell_type": "code",
   "execution_count": 147,
   "metadata": {},
   "outputs": [
    {
     "data": {
      "image/png": "[encoded data removed]",
      "text/plain": [
       "<IPython.core.display.Image object>"
      ]
     },
     "execution_count": 147,
     "metadata": {},
     "output_type": "execute_result"
    }
   ],
   "source": [
    "Image(child_workflow.get_graph().draw_png())"
   ]
  },
  {
   "cell_type": "markdown",
   "metadata": {},
   "source": [
    "- Test the subgraph"
   ]
  },
  {
   "cell_type": "code",
   "execution_count": 126,
   "metadata": {},
   "outputs": [
    {
     "name": "stdout",
     "output_type": "stream",
     "text": [
      "---text_to_sql---\n"
     ]
    },
    {
     "name": "stdout",
     "output_type": "stream",
     "text": [
      "Output from node 'text_to_sql':\n",
      "---\n",
      "{'env_var': {'tasks': Tasks(tasks=[Task(task='查询订单总数'), Task(task='分析不同地区的销售情况,看哪些地区销售下降较多')]), 'codes': [Code(code='SELECT COUNT(*) AS total_orders\\nFROM interactions;'), Code(code=\"SELECT \\n  `category_l1`, \\n  COUNT(*) AS total_interactions\\nFROM \\n  interactions i\\nJOIN \\n  items it ON i.`item_id` = it.`item_id`\\nWHERE \\n  i.`event_type` = 'purchase'\\nGROUP BY \\n  `category_l1`\\nORDER BY \\n  total_interactions DESC;\")], 'loop_cnt': 1}}\n",
      "\n",
      "---\n",
      "\n",
      "---execute_sql---\n",
      "---should_continue---\n",
      "Output from node 'execute_sql':\n",
      "---\n",
      "{'env_var': {'tasks': Tasks(tasks=[Task(task='查询订单总数'), Task(task='分析不同地区的销售情况,看哪些地区销售下降较多')]), 'codes': [Code(code='SELECT COUNT(*) AS total_orders\\nFROM interactions;'), Code(code=\"SELECT \\n  `category_l1`, \\n  COUNT(*) AS total_interactions\\nFROM \\n  interactions i\\nJOIN \\n  items it ON i.`item_id` = it.`item_id`\\nWHERE \\n  i.`event_type` = 'purchase'\\nGROUP BY \\n  `category_l1`\\nORDER BY \\n  total_interactions DESC;\")], 'loop_cnt': 1, 'query_results': [{'data':    total_orders\n",
      "0        675004, 'sql': 'SELECT COUNT(*) AS total_orders\\nFROM interactions;', 'status_code': 200, 'error_info': ''}, {'data':        category_l1  total_interactions\n",
      "0       housewares                 625\n",
      "1          apparel                 510\n",
      "2        furniture                 449\n",
      "3         seasonal                 443\n",
      "4         footwear                 438\n",
      "5      instruments                 437\n",
      "6      accessories                 434\n",
      "7        homedecor                 412\n",
      "8        groceries                 402\n",
      "9           floral                 330\n",
      "10    food service                 268\n",
      "11     electronics                 227\n",
      "12        outdoors                 221\n",
      "13           tools                 159\n",
      "14          beauty                 157\n",
      "15         jewelry                 110\n",
      "16           books                  86\n",
      "17  cold dispensed                  67\n",
      "18    salty snacks                  42\n",
      "19   hot dispensed                   2, 'sql': \"SELECT \\n  `category_l1`, \\n  COUNT(*) AS total_interactions\\nFROM \\n  interactions i\\nJOIN \\n  items it ON i.`item_id` = it.`item_id`\\nWHERE \\n  i.`event_type` = 'purchase'\\nGROUP BY \\n  `category_l1`\\nORDER BY \\n  total_interactions DESC;\", 'status_code': 200, 'error_info': ''}], 'error_info': ['', '']}}\n",
      "\n",
      "---\n",
      "\n",
      "---text_to_sql---\n",
      "Output from node 'text_to_sql':\n",
      "---\n",
      "{'env_var': {'tasks': Tasks(tasks=[Task(task='查询订单总数'), Task(task='分析不同地区的销售情况,看哪些地区销售下降较多')]), 'codes': [Code(code='SELECT COUNT(*) AS total_orders\\nFROM interactions;'), Code(code=\"SELECT \\n  `category_l1`, \\n  COUNT(*) AS total_interactions\\nFROM \\n  interactions i\\nJOIN \\n  items it ON i.`item_id` = it.`item_id`\\nWHERE \\n  i.`event_type` = 'purchase'\\nGROUP BY \\n  `category_l1`\\nORDER BY \\n  total_interactions DESC;\")], 'loop_cnt': 2, 'query_results': [{'data':    total_orders\n",
      "0        675004, 'sql': 'SELECT COUNT(*) AS total_orders\\nFROM interactions;', 'status_code': 200, 'error_info': ''}, {'data':        category_l1  total_interactions\n",
      "0       housewares                 625\n",
      "1          apparel                 510\n",
      "2        furniture                 449\n",
      "3         seasonal                 443\n",
      "4         footwear                 438\n",
      "5      instruments                 437\n",
      "6      accessories                 434\n",
      "7        homedecor                 412\n",
      "8        groceries                 402\n",
      "9           floral                 330\n",
      "10    food service                 268\n",
      "11     electronics                 227\n",
      "12        outdoors                 221\n",
      "13           tools                 159\n",
      "14          beauty                 157\n",
      "15         jewelry                 110\n",
      "16           books                  86\n",
      "17  cold dispensed                  67\n",
      "18    salty snacks                  42\n",
      "19   hot dispensed                   2, 'sql': \"SELECT \\n  `category_l1`, \\n  COUNT(*) AS total_interactions\\nFROM \\n  interactions i\\nJOIN \\n  items it ON i.`item_id` = it.`item_id`\\nWHERE \\n  i.`event_type` = 'purchase'\\nGROUP BY \\n  `category_l1`\\nORDER BY \\n  total_interactions DESC;\", 'status_code': 200, 'error_info': ''}], 'error_info': ['', '']}}\n",
      "\n",
      "---\n",
      "\n",
      "---execute_sql---\n",
      "---should_continue---\n",
      "Output from node 'execute_sql':\n",
      "---\n",
      "{'env_var': {'tasks': Tasks(tasks=[Task(task='查询订单总数'), Task(task='分析不同地区的销售情况,看哪些地区销售下降较多')]), 'codes': [Code(code='SELECT COUNT(*) AS total_orders\\nFROM interactions;'), Code(code=\"SELECT \\n  `category_l1`, \\n  COUNT(*) AS total_interactions\\nFROM \\n  interactions i\\nJOIN \\n  items it ON i.`item_id` = it.`item_id`\\nWHERE \\n  i.`event_type` = 'purchase'\\nGROUP BY \\n  `category_l1`\\nORDER BY \\n  total_interactions DESC;\")], 'loop_cnt': 2, 'query_results': [{'data':    total_orders\n",
      "0        675004, 'sql': 'SELECT COUNT(*) AS total_orders\\nFROM interactions;', 'status_code': 200, 'error_info': ''}, {'data':        category_l1  total_interactions\n",
      "0       housewares                 625\n",
      "1          apparel                 510\n",
      "2        furniture                 449\n",
      "3         seasonal                 443\n",
      "4         footwear                 438\n",
      "5      instruments                 437\n",
      "6      accessories                 434\n",
      "7        homedecor                 412\n",
      "8        groceries                 402\n",
      "9           floral                 330\n",
      "10    food service                 268\n",
      "11     electronics                 227\n",
      "12        outdoors                 221\n",
      "13           tools                 159\n",
      "14          beauty                 157\n",
      "15         jewelry                 110\n",
      "16           books                  86\n",
      "17  cold dispensed                  67\n",
      "18    salty snacks                  42\n",
      "19   hot dispensed                   2, 'sql': \"SELECT \\n  `category_l1`, \\n  COUNT(*) AS total_interactions\\nFROM \\n  interactions i\\nJOIN \\n  items it ON i.`item_id` = it.`item_id`\\nWHERE \\n  i.`event_type` = 'purchase'\\nGROUP BY \\n  `category_l1`\\nORDER BY \\n  total_interactions DESC;\", 'status_code': 200, 'error_info': ''}], 'error_info': ['', '']}}\n",
      "\n",
      "---\n",
      "\n",
      "---text_to_sql---\n",
      "Output from node 'text_to_sql':\n",
      "---\n",
      "{'env_var': {'tasks': Tasks(tasks=[Task(task='查询订单总数'), Task(task='分析不同地区的销售情况,看哪些地区销售下降较多')]), 'codes': [Code(code='SELECT COUNT(*) AS total_orders\\nFROM interactions;'), Code(code=\"SELECT \\n  `category_l1`, \\n  COUNT(*) AS total_interactions\\nFROM \\n  interactions i\\nJOIN \\n  items it ON i.item_id = it.item_id\\nWHERE \\n  i.event_type = 'purchase'\\nGROUP BY \\n  `category_l1`\\nORDER BY \\n  total_interactions DESC;\")], 'loop_cnt': 3, 'query_results': [{'data':    total_orders\n",
      "0        675004, 'sql': 'SELECT COUNT(*) AS total_orders\\nFROM interactions;', 'status_code': 200, 'error_info': ''}, {'data':        category_l1  total_interactions\n",
      "0       housewares                 625\n",
      "1          apparel                 510\n",
      "2        furniture                 449\n",
      "3         seasonal                 443\n",
      "4         footwear                 438\n",
      "5      instruments                 437\n",
      "6      accessories                 434\n",
      "7        homedecor                 412\n",
      "8        groceries                 402\n",
      "9           floral                 330\n",
      "10    food service                 268\n",
      "11     electronics                 227\n",
      "12        outdoors                 221\n",
      "13           tools                 159\n",
      "14          beauty                 157\n",
      "15         jewelry                 110\n",
      "16           books                  86\n",
      "17  cold dispensed                  67\n",
      "18    salty snacks                  42\n",
      "19   hot dispensed                   2, 'sql': \"SELECT \\n  `category_l1`, \\n  COUNT(*) AS total_interactions\\nFROM \\n  interactions i\\nJOIN \\n  items it ON i.`item_id` = it.`item_id`\\nWHERE \\n  i.`event_type` = 'purchase'\\nGROUP BY \\n  `category_l1`\\nORDER BY \\n  total_interactions DESC;\", 'status_code': 200, 'error_info': ''}], 'error_info': ['', '']}}\n",
      "\n",
      "---\n",
      "\n",
      "---execute_sql---\n",
      "---should_continue---\n",
      "Output from node 'execute_sql':\n",
      "---\n",
      "{'env_var': {'tasks': Tasks(tasks=[Task(task='查询订单总数'), Task(task='分析不同地区的销售情况,看哪些地区销售下降较多')]), 'codes': [Code(code='SELECT COUNT(*) AS total_orders\\nFROM interactions;'), Code(code=\"SELECT \\n  `category_l1`, \\n  COUNT(*) AS total_interactions\\nFROM \\n  interactions i\\nJOIN \\n  items it ON i.item_id = it.item_id\\nWHERE \\n  i.event_type = 'purchase'\\nGROUP BY \\n  `category_l1`\\nORDER BY \\n  total_interactions DESC;\")], 'loop_cnt': 3, 'query_results': [{'data':    total_orders\n",
      "0        675004, 'sql': 'SELECT COUNT(*) AS total_orders\\nFROM interactions;', 'status_code': 200, 'error_info': ''}, {'data':        category_l1  total_interactions\n",
      "0       housewares                 625\n",
      "1          apparel                 510\n",
      "2        furniture                 449\n",
      "3         seasonal                 443\n",
      "4         footwear                 438\n",
      "5      instruments                 437\n",
      "6      accessories                 434\n",
      "7        homedecor                 412\n",
      "8        groceries                 402\n",
      "9           floral                 330\n",
      "10    food service                 268\n",
      "11     electronics                 227\n",
      "12        outdoors                 221\n",
      "13           tools                 159\n",
      "14          beauty                 157\n",
      "15         jewelry                 110\n",
      "16           books                  86\n",
      "17  cold dispensed                  67\n",
      "18    salty snacks                  42\n",
      "19   hot dispensed                   2, 'sql': \"SELECT \\n  `category_l1`, \\n  COUNT(*) AS total_interactions\\nFROM \\n  interactions i\\nJOIN \\n  items it ON i.item_id = it.item_id\\nWHERE \\n  i.event_type = 'purchase'\\nGROUP BY \\n  `category_l1`\\nORDER BY \\n  total_interactions DESC;\", 'status_code': 200, 'error_info': ''}], 'error_info': ['', '']}}\n",
      "\n",
      "---\n",
      "\n"
     ]
    }
   ],
   "source": [
    "test_tasks = Tasks(tasks=[Task(task='查询订单总数'),Task(task='分析不同地区的销售情况,看哪些地区销售下降较多')])\n",
    "steps = []\n",
    "init_state = {\n",
    "    \"env_var\":{\"tasks\":test_tasks},\n",
    "}\n",
    "async for event in child_workflow.astream(input=init_state):\n",
    "    steps.append(event)\n",
    "    for key, value in event.items():\n",
    "        print(f\"Output from node '{key}':\")\n",
    "        print(\"---\")\n",
    "        print(value)\n",
    "    print(\"\\n---\\n\")"
   ]
  },
  {
   "cell_type": "markdown",
   "metadata": {},
   "source": [
    "## 3. Add the sub Graph to the Main graph"
   ]
  },
  {
   "cell_type": "markdown",
   "metadata": {},
   "source": [
    "### 3.1 Create a generate response node to generate date analysis report"
   ]
  },
  {
   "cell_type": "code",
   "execution_count": 127,
   "metadata": {},
   "outputs": [],
   "source": [
    "CLAUDE3_DATA_ANALYSE_SYSTEM_PROMPT = \"\"\"\n",
    "You are a data analysis expert in the retail industry\n",
    "\"\"\"\n",
    "\n",
    "CLAUDE3_AGENT_DATA_ANALYSE_USER_PROMPT = \"\"\"\n",
    "As a professional data analyst, you are now asked a question by a user, and you need to analyze the data provided.\n",
    "\n",
    "<instructions>\n",
    "- Analyze the data based on the provided data, without creating non-existent data. It is crucial to only analyze the provided data.\n",
    "- Perform relevant correlation analysis on the relationships between the data.\n",
    "- There is no need to expose the specific SQL fields.\n",
    "- The data related to the user's question is in a JSON result, which has been broken down into multiple sub-questions, including the sub-questions, queries, SQL, and data_result.\n",
    "</instructions>\n",
    "\n",
    "\n",
    "The user question is：{question}\n",
    "\n",
    "The data related to the question is：{data}\n",
    "\n",
    "Think step by step.\n",
    "\"\"\"\n",
    "\n",
    "CLAUDE3_QUERY_DATA_ANALYSE_USER_PROMPT = \"\"\"\n",
    "\n",
    "Your task is to analyze the given data and describe it in natural language. \n",
    "\n",
    "<instructions>\n",
    "- Transforming data into natural language, including all key data as much as possible\n",
    "- Just need the final result of the data, no need to output the previous analysis process\n",
    "</instructions>\n",
    "\n",
    "The user question is：{question}\n",
    "\n",
    "The data is：{data}\n",
    "\n",
    "\"\"\"\n",
    "\n",
    "def _generate_llm_response(question:str, data:str, intent:str):\n",
    "    \"\"\"invoke a llm chain to generate response\n",
    "\n",
    "    Args:\n",
    "        question (str): user's original question\n",
    "        data (str): sql query data\n",
    "        intent (str): agent_search or normal_search\n",
    "\n",
    "    Returns:\n",
    "        _type_: _description_\n",
    "    \"\"\"\n",
    "    prompt = ChatPromptTemplate.from_messages(\n",
    "    [\n",
    "        (\n",
    "            \"system\",\n",
    "            CLAUDE3_DATA_ANALYSE_SYSTEM_PROMPT ,\n",
    "        ),\n",
    "        ('human',CLAUDE3_AGENT_DATA_ANALYSE_USER_PROMPT if intent == 'agent_search' else CLAUDE3_QUERY_DATA_ANALYSE_USER_PROMPT)\n",
    "    ])\n",
    "    chain = prompt | llm | StrOutputParser()\n",
    "    resp = chain.invoke({\"question\": question, \"data\": data})\n",
    "    return resp\n",
    "\n",
    "async def generate_response(state:AgentState):\n",
    "    \"\"\"generate response node\n",
    "\n",
    "    Args:\n",
    "        state (AgentState): _description_\n",
    "\n",
    "    Returns:\n",
    "        _type_: state\n",
    "    \"\"\"\n",
    "    print(\"---generate_response---\")\n",
    "    env_var =  state[\"env_var\"]\n",
    "    #original query\n",
    "    query = env_var['query']\n",
    "    #decomposed tasks\n",
    "    tasks = env_var['tasks'].to_str_arr\n",
    "    intent= env_var['intent']\n",
    "    #results of execution\n",
    "    query_results = env_var['query_results']\n",
    "    \n",
    "    consolidated_results = [{\"query\":t,\n",
    "                                \"sql\":q['sql'],\n",
    "                                \"data\":q['data'].to_json(orient='records')}  for t,q in zip(tasks,query_results)]\n",
    "    data = json.dumps(consolidated_results,ensure_ascii=False)\n",
    "    response = _generate_llm_response(query, data,intent)\n",
    "    return {\n",
    "        \"env_var\": {\n",
    "            **env_var,\n",
    "            \"final_response\": response\n",
    "        }\n",
    "    }\n",
    "    "
   ]
  },
  {
   "cell_type": "markdown",
   "metadata": {},
   "source": [
    "### 3.2 merge the subgraph to main graph"
   ]
  },
  {
   "cell_type": "code",
   "execution_count": 128,
   "metadata": {},
   "outputs": [],
   "source": [
    "# Create the graph and add nodes\n",
    "builder = StateGraph(AgentState)\n",
    "builder.add_node(\"intention_detect\",intention_detect)\n",
    "builder.add_node(\"normal_chat\",normal_chat)\n",
    "builder.add_node(\"agent_search\",agent_search)\n",
    "builder.add_node(\"normal_search\",normal_search)\n",
    "\n",
    "# add the subgraph to the main graph as a node\n",
    "builder.add_node(\"txt2sql_subgraph\", child_builder.compile())\n",
    "\n",
    "builder.add_node(\"generate_response\",generate_response)\n",
    "\n",
    "# Add edges to the graph\n",
    "builder.add_edge(START, \"intention_detect\")\n",
    "\n",
    "builder.add_conditional_edges(\"intention_detect\", route_intent)\n",
    "builder.add_edge(\"normal_search\",\"txt2sql_subgraph\")\n",
    "builder.add_edge(\"agent_search\",\"txt2sql_subgraph\")\n",
    "builder.add_edge(\"txt2sql_subgraph\",\"generate_response\")\n",
    "builder.add_edge(\"normal_chat\",END)\n",
    "builder.add_edge(\"generate_response\",END)\n",
    "# Compile the graph\n",
    "workflow = builder.compile()"
   ]
  },
  {
   "cell_type": "code",
   "execution_count": 146,
   "metadata": {},
   "outputs": [
    {
     "data": {
      "image/png": "[encoded data removed]",
      "text/plain": [
       "<IPython.core.display.Image object>"
      ]
     },
     "execution_count": 146,
     "metadata": {},
     "output_type": "execute_result"
    }
   ],
   "source": [
    "\n",
    "Image(workflow.get_graph().draw_png())"
   ]
  },
  {
   "cell_type": "markdown",
   "metadata": {},
   "source": [
    "- Test Run"
   ]
  },
  {
   "cell_type": "code",
   "execution_count": 158,
   "metadata": {},
   "outputs": [],
   "source": [
    "querys = [\"订单总数是多少\",\n",
    "          \"分析整体的销售情况\",\n",
    "          \"6月的销售为什么下降了？\"]\n",
    "steps = []\n",
    "init_state = {\n",
    "    \"env_var\":{},\n",
    "    \"messages\":[HumanMessage(content=querys[2])]\n",
    "}"
   ]
  },
  {
   "cell_type": "code",
   "execution_count": 159,
   "metadata": {},
   "outputs": [
    {
     "name": "stdout",
     "output_type": "stream",
     "text": [
      "---intention_detect---\n"
     ]
    },
    {
     "name": "stdout",
     "output_type": "stream",
     "text": [
      "---route_intent---\n",
      "Output from node 'intention_detect':\n",
      "---\n",
      "{'env_var': {'query': '6月的销售为什么下降了？', 'intent': 'agent_search'}}\n",
      "\n",
      "---\n",
      "\n",
      "---agent_search---\n",
      "Output from node 'agent_search':\n",
      "---\n",
      "{'env_var': {'query': '6月的销售为什么下降了？', 'intent': 'agent_search', 'tasks': Tasks(tasks=[Task(task='分析每月总销售额和销量的变化趋势'), Task(task='分析热门商品类别每月销售额和销量的变化'), Task(task='分析不同性别和年龄段用户每月购买行为的变化'), Task(task='分析促销活动对每月销售额和销量的影响')])}}\n",
      "\n",
      "---\n",
      "\n",
      "---text_to_sql---\n",
      "---execute_sql---\n",
      "---should_continue---\n",
      "---text_to_sql---\n"
     ]
    },
    {
     "name": "stderr",
     "output_type": "stream",
     "text": [
      "get_sql_result is error: (pymysql.err.ProgrammingError) (1064, \"You have an error in your SQL syntax; check the manual that corresponds to your MySQL server version for the right syntax to use near 'year_month,\\n  COUNT(DISTINCT i.`item_id`) AS num_items_purchased\\nFROM `interacti' at line 12\")\n",
      "[SQL: SELECT \n",
      "  u.`gender`, \n",
      "  CASE\n",
      "    WHEN u.`age` BETWEEN 0 AND 17 THEN '0-17'\n",
      "    WHEN u.`age` BETWEEN 18 AND 24 THEN '18-24'\n",
      "    WHEN u.`age` BETWEEN 25 AND 34 THEN '25-34'\n",
      "    WHEN u.`age` BETWEEN 35 AND 44 THEN '35-44'\n",
      "    WHEN u.`age` BETWEEN 45 AND 54 THEN '45-54'\n",
      "    WHEN u.`age` BETWEEN 55 AND 64 THEN '55-64'\n",
      "    ELSE '65+' \n",
      "  END AS age_group,\n",
      "  DATE_FORMAT(FROM_UNIXTIME(`timestamp`), '%%Y-%%m') AS year_month,\n",
      "  COUNT(DISTINCT i.`item_id`) AS num_items_purchased\n",
      "FROM `interactions` i\n",
      "JOIN `users` u ON i.`user_id` = u.`user_id`\n",
      "WHERE i.`event_type` = 'purchase'\n",
      "GROUP BY u.`gender`, age_group, year_month\n",
      "ORDER BY year_month;]\n",
      "(Background on this error at: https://sqlalche.me/e/20/f405)\n"
     ]
    },
    {
     "name": "stdout",
     "output_type": "stream",
     "text": [
      "---execute_sql---\n",
      "(pymysql.err.ProgrammingError) (1064, \"You have an error in your SQL syntax; check the manual that corresponds to your MySQL server version for the right syntax to use near 'year_month,\\n  COUNT(DISTINCT i.`item_id`) AS num_items_purchased\\nFROM `interacti' at line 12\")\n",
      "[SQL: SELECT \n",
      "  u.`gender`, \n",
      "  CASE\n",
      "    WHEN u.`age` BETWEEN 0 AND 17 THEN '0-17'\n",
      "    WHEN u.`age` BETWEEN 18 AND 24 THEN '18-24'\n",
      "    WHEN u.`age` BETWEEN 25 AND 34 THEN '25-34'\n",
      "    WHEN u.`age` BETWEEN 35 AND 44 THEN '35-44'\n",
      "    WHEN u.`age` BETWEEN 45 AND 54 THEN '45-54'\n",
      "    WHEN u.`age` BETWEEN 55 AND 64 THEN '55-64'\n",
      "    ELSE '65+' \n",
      "  END AS age_group,\n",
      "  DATE_FORMAT(FROM_UNIXTIME(`timestamp`), '%%Y-%%m') AS year_month,\n",
      "  COUNT(DISTINCT i.`item_id`) AS num_items_purchased\n",
      "FROM `interactions` i\n",
      "JOIN `users` u ON i.`user_id` = u.`user_id`\n",
      "WHERE i.`event_type` = 'purchase'\n",
      "GROUP BY u.`gender`, age_group, year_month\n",
      "ORDER BY year_month;]\n",
      "(Background on this error at: https://sqlalche.me/e/20/f405)\n",
      "---should_continue---\n",
      "---text_to_sql---\n"
     ]
    },
    {
     "name": "stderr",
     "output_type": "stream",
     "text": [
      "get_sql_result is error: (pymysql.err.ProgrammingError) (1064, \"You have an error in your SQL syntax; check the manual that corresponds to your MySQL server version for the right syntax to use near 'year_month,\\n  COUNT(DISTINCT i.`item_id`) AS num_items_purchased\\nFROM `interacti' at line 12\")\n",
      "[SQL: SELECT\n",
      "  u.`gender`,\n",
      "  CASE\n",
      "    WHEN u.`age` BETWEEN 0 AND 17 THEN '0-17'\n",
      "    WHEN u.`age` BETWEEN 18 AND 24 THEN '18-24'\n",
      "    WHEN u.`age` BETWEEN 25 AND 34 THEN '25-34'\n",
      "    WHEN u.`age` BETWEEN 35 AND 44 THEN '35-44'\n",
      "    WHEN u.`age` BETWEEN 45 AND 54 THEN '45-54'\n",
      "    WHEN u.`age` BETWEEN 55 AND 64 THEN '55-64'\n",
      "    ELSE '65+'\n",
      "  END AS age_group,\n",
      "  DATE_FORMAT(FROM_UNIXTIME(i.`timestamp`), '%%Y-%%m') AS year_month,\n",
      "  COUNT(DISTINCT i.`item_id`) AS num_items_purchased\n",
      "FROM `interactions` i\n",
      "JOIN `users` u ON i.`user_id` = u.`user_id`\n",
      "WHERE i.`event_type` = 'purchase'\n",
      "GROUP BY u.`gender`, age_group, year_month\n",
      "ORDER BY year_month;]\n",
      "(Background on this error at: https://sqlalche.me/e/20/f405)\n"
     ]
    },
    {
     "name": "stdout",
     "output_type": "stream",
     "text": [
      "---execute_sql---\n",
      "(pymysql.err.ProgrammingError) (1064, \"You have an error in your SQL syntax; check the manual that corresponds to your MySQL server version for the right syntax to use near 'year_month,\\n  COUNT(DISTINCT i.`item_id`) AS num_items_purchased\\nFROM `interacti' at line 12\")\n",
      "[SQL: SELECT\n",
      "  u.`gender`,\n",
      "  CASE\n",
      "    WHEN u.`age` BETWEEN 0 AND 17 THEN '0-17'\n",
      "    WHEN u.`age` BETWEEN 18 AND 24 THEN '18-24'\n",
      "    WHEN u.`age` BETWEEN 25 AND 34 THEN '25-34'\n",
      "    WHEN u.`age` BETWEEN 35 AND 44 THEN '35-44'\n",
      "    WHEN u.`age` BETWEEN 45 AND 54 THEN '45-54'\n",
      "    WHEN u.`age` BETWEEN 55 AND 64 THEN '55-64'\n",
      "    ELSE '65+'\n",
      "  END AS age_group,\n",
      "  DATE_FORMAT(FROM_UNIXTIME(i.`timestamp`), '%%Y-%%m') AS year_month,\n",
      "  COUNT(DISTINCT i.`item_id`) AS num_items_purchased\n",
      "FROM `interactions` i\n",
      "JOIN `users` u ON i.`user_id` = u.`user_id`\n",
      "WHERE i.`event_type` = 'purchase'\n",
      "GROUP BY u.`gender`, age_group, year_month\n",
      "ORDER BY year_month;]\n",
      "(Background on this error at: https://sqlalche.me/e/20/f405)\n",
      "---should_continue---\n",
      "Output from node 'txt2sql_subgraph':\n",
      "---\n",
      "{'messages': [HumanMessage(content='6月的销售为什么下降了？')], 'env_var': {'query': '6月的销售为什么下降了？', 'intent': 'agent_search', 'tasks': Tasks(tasks=[Task(task='分析每月总销售额和销量的变化趋势'), Task(task='分析热门商品类别每月销售额和销量的变化'), Task(task='分析不同性别和年龄段用户每月购买行为的变化'), Task(task='分析促销活动对每月销售额和销量的影响')]), 'codes': [Code(code=\"SELECT \\n  EXTRACT(YEAR_MONTH FROM FROM_UNIXTIME(`timestamp`)) AS `year_month`,\\n  SUM(`items`.`price`) AS `total_revenue`,\\n  COUNT(*) AS `total_quantity`\\nFROM `interactions` \\nJOIN `items` ON `interactions`.`item_id` = `items`.`item_id`\\nWHERE `event_type` = 'purchase'\\nGROUP BY `year_month`\\nORDER BY `year_month`;\"), Code(code=\"SELECT \\n  `category_l1`, \\n  MONTH(`timestamp`) AS `month`,\\n  SUM(`price`) AS `total_revenue`,\\n  COUNT(*) AS `total_quantity`\\nFROM `interactions` \\nJOIN `items` ON `interactions`.`item_id` = `items`.`item_id`\\nWHERE `event_type` = 'purchase'\\nGROUP BY `category_l1`, `month`\\nORDER BY `total_revenue` DESC\\nLIMIT 100;\"), Code(code=\"SELECT\\n  u.`gender`,\\n  CASE\\n    WHEN u.`age` BETWEEN 0 AND 17 THEN '0-17'\\n    WHEN u.`age` BETWEEN 18 AND 24 THEN '18-24'\\n    WHEN u.`age` BETWEEN 25 AND 34 THEN '25-34'\\n    WHEN u.`age` BETWEEN 35 AND 44 THEN '35-44'\\n    WHEN u.`age` BETWEEN 45 AND 54 THEN '45-54'\\n    WHEN u.`age` BETWEEN 55 AND 64 THEN '55-64'\\n    ELSE '65+'\\n  END AS age_group,\\n  DATE_FORMAT(FROM_UNIXTIME(i.`timestamp`), '%Y-%m') AS year_month,\\n  COUNT(DISTINCT i.`item_id`) AS num_items_purchased\\nFROM `interactions` i\\nJOIN `users` u ON i.`user_id` = u.`user_id`\\nWHERE i.`event_type` = 'purchase'\\nGROUP BY u.`gender`, age_group, year_month\\nORDER BY year_month;\"), Code(code=\"SELECT \\n  MONTH(`timestamp`) AS `month`,\\n  SUM(CASE WHEN `promoted` = 'true' THEN 1 ELSE 0 END) AS `promoted_items_count`,\\n  SUM(CASE WHEN `promoted` = 'false' THEN 1 ELSE 0 END) AS `non_promoted_items_count`,\\n  SUM(CASE WHEN `promoted` = 'true' THEN `price` ELSE 0 END) AS `promoted_revenue`,\\n  SUM(CASE WHEN `promoted` = 'false' THEN `price` ELSE 0 END) AS `non_promoted_revenue`\\nFROM `interactions` \\nJOIN `items` ON `interactions`.`item_id` = `items`.`item_id`\\nWHERE `event_type` = 'purchase'\\nGROUP BY MONTH(`timestamp`)\\nORDER BY `month`;\")], 'loop_cnt': 3, 'query_results': [{'data':    year_month  total_revenue  total_quantity\n",
      "0      202305  206510.069533            2007\n",
      "1      202306  254588.349748            2356\n",
      "2      202307  156205.439767            1456, 'sql': \"SELECT \\n  EXTRACT(YEAR_MONTH FROM FROM_UNIXTIME(`timestamp`)) AS `year_month`,\\n  SUM(`items`.`price`) AS `total_revenue`,\\n  COUNT(*) AS `total_quantity`\\nFROM `interactions` \\nJOIN `items` ON `interactions`.`item_id` = `items`.`item_id`\\nWHERE `event_type` = 'purchase'\\nGROUP BY `year_month`\\nORDER BY `year_month`;\", 'status_code': 200, 'error_info': ''}, {'data':        category_l1 month  total_revenue  total_quantity\n",
      "0        furniture  None  131963.529587             449\n",
      "1      instruments  None  120806.628609             437\n",
      "2          apparel  None   61747.900782             510\n",
      "3      electronics  None   60501.739536             227\n",
      "4      accessories  None   43635.659981             434\n",
      "5       housewares  None   38191.809969             625\n",
      "6           floral  None   32939.699959             330\n",
      "7         seasonal  None   30275.570181             443\n",
      "8         footwear  None   28597.620169             438\n",
      "9        homedecor  None   20879.910431             412\n",
      "10        outdoors  None   20521.789881             221\n",
      "11         jewelry  None   11160.900055             110\n",
      "12          beauty  None    6236.869997             157\n",
      "13       groceries  None    3747.979926             402\n",
      "14           tools  None    2753.409964             159\n",
      "15           books  None    2083.140022              86\n",
      "16    food service  None    1064.100000             268\n",
      "17  cold dispensed  None     123.500000              67\n",
      "18    salty snacks  None      69.700000              42\n",
      "19   hot dispensed  None       2.400000               2, 'sql': \"SELECT \\n  `category_l1`, \\n  MONTH(`timestamp`) AS `month`,\\n  SUM(`price`) AS `total_revenue`,\\n  COUNT(*) AS `total_quantity`\\nFROM `interactions` \\nJOIN `items` ON `interactions`.`item_id` = `items`.`item_id`\\nWHERE `event_type` = 'purchase'\\nGROUP BY `category_l1`, `month`\\nORDER BY `total_revenue` DESC\\nLIMIT 100;\", 'status_code': 200, 'error_info': ''}, {'data': Empty DataFrame\n",
      "Columns: []\n",
      "Index: [], 'sql': \"SELECT\\n  u.`gender`,\\n  CASE\\n    WHEN u.`age` BETWEEN 0 AND 17 THEN '0-17'\\n    WHEN u.`age` BETWEEN 18 AND 24 THEN '18-24'\\n    WHEN u.`age` BETWEEN 25 AND 34 THEN '25-34'\\n    WHEN u.`age` BETWEEN 35 AND 44 THEN '35-44'\\n    WHEN u.`age` BETWEEN 45 AND 54 THEN '45-54'\\n    WHEN u.`age` BETWEEN 55 AND 64 THEN '55-64'\\n    ELSE '65+'\\n  END AS age_group,\\n  DATE_FORMAT(FROM_UNIXTIME(i.`timestamp`), '%Y-%m') AS year_month,\\n  COUNT(DISTINCT i.`item_id`) AS num_items_purchased\\nFROM `interactions` i\\nJOIN `users` u ON i.`user_id` = u.`user_id`\\nWHERE i.`event_type` = 'purchase'\\nGROUP BY u.`gender`, age_group, year_month\\nORDER BY year_month;\", 'status_code': 500, 'error_info': ProgrammingError('(pymysql.err.ProgrammingError) (1064, \"You have an error in your SQL syntax; check the manual that corresponds to your MySQL server version for the right syntax to use near \\'year_month,\\\\n  COUNT(DISTINCT i.`item_id`) AS num_items_purchased\\\\nFROM `interacti\\' at line 12\")')}, {'data':   month  promoted_items_count  non_promoted_items_count  promoted_revenue  \\\n",
      "0  None                   0.0                       0.0               0.0   \n",
      "\n",
      "   non_promoted_revenue  \n",
      "0                   0.0  , 'sql': \"SELECT \\n  MONTH(`timestamp`) AS `month`,\\n  SUM(CASE WHEN `promoted` = 'true' THEN 1 ELSE 0 END) AS `promoted_items_count`,\\n  SUM(CASE WHEN `promoted` = 'false' THEN 1 ELSE 0 END) AS `non_promoted_items_count`,\\n  SUM(CASE WHEN `promoted` = 'true' THEN `price` ELSE 0 END) AS `promoted_revenue`,\\n  SUM(CASE WHEN `promoted` = 'false' THEN `price` ELSE 0 END) AS `non_promoted_revenue`\\nFROM `interactions` \\nJOIN `items` ON `interactions`.`item_id` = `items`.`item_id`\\nWHERE `event_type` = 'purchase'\\nGROUP BY MONTH(`timestamp`)\\nORDER BY `month`;\", 'status_code': 200, 'error_info': ''}], 'error_info': ['', '', 'The sql:\\n```sql\\nSELECT\\n  u.`gender`,\\n  CASE\\n    WHEN u.`age` BETWEEN 0 AND 17 THEN \\'0-17\\'\\n    WHEN u.`age` BETWEEN 18 AND 24 THEN \\'18-24\\'\\n    WHEN u.`age` BETWEEN 25 AND 34 THEN \\'25-34\\'\\n    WHEN u.`age` BETWEEN 35 AND 44 THEN \\'35-44\\'\\n    WHEN u.`age` BETWEEN 45 AND 54 THEN \\'45-54\\'\\n    WHEN u.`age` BETWEEN 55 AND 64 THEN \\'55-64\\'\\n    ELSE \\'65+\\'\\n  END AS age_group,\\n  DATE_FORMAT(FROM_UNIXTIME(i.`timestamp`), \\'%Y-%m\\') AS year_month,\\n  COUNT(DISTINCT i.`item_id`) AS num_items_purchased\\nFROM `interactions` i\\nJOIN `users` u ON i.`user_id` = u.`user_id`\\nWHERE i.`event_type` = \\'purchase\\'\\nGROUP BY u.`gender`, age_group, year_month\\nORDER BY year_month;```\\nhas execution errors:(pymysql.err.ProgrammingError) (1064, \"You have an error in your SQL syntax; check the manual that corresponds to your MySQL server version for the right syntax to use near \\'year_month,\\\\n  COUNT(DISTINCT i.`item_id`) AS num_items_purchased\\\\nFROM `interacti\\' at line 12\")\\n[SQL: SELECT\\n  u.`gender`,\\n  CASE\\n    WHEN u.`age` BETWEEN 0 AND 17 THEN \\'0-17\\'\\n    WHEN u.`age` BETWEEN 18 AND 24 THEN \\'18-24\\'\\n    WHEN u.`age` BETWEEN 25 AND 34 THEN \\'25-34\\'\\n    WHEN u.`age` BETWEEN 35 AND 44 THEN \\'35-44\\'\\n    WHEN u.`age` BETWEEN 45 AND 54 THEN \\'45-54\\'\\n    WHEN u.`age` BETWEEN 55 AND 64 THEN \\'55-64\\'\\n    ELSE \\'65+\\'\\n  END AS age_group,\\n  DATE_FORMAT(FROM_UNIXTIME(i.`timestamp`), \\'%%Y-%%m\\') AS year_month,\\n  COUNT(DISTINCT i.`item_id`) AS num_items_purchased\\nFROM `interactions` i\\nJOIN `users` u ON i.`user_id` = u.`user_id`\\nWHERE i.`event_type` = \\'purchase\\'\\nGROUP BY u.`gender`, age_group, year_month\\nORDER BY year_month;]\\n(Background on this error at: https://sqlalche.me/e/20/f405)\\n', '']}}\n",
      "\n",
      "---\n",
      "\n",
      "---generate_response---\n",
      "Output from node 'generate_response':\n",
      "---\n",
      "{'env_var': {'query': '6月的销售为什么下降了？', 'intent': 'agent_search', 'tasks': Tasks(tasks=[Task(task='分析每月总销售额和销量的变化趋势'), Task(task='分析热门商品类别每月销售额和销量的变化'), Task(task='分析不同性别和年龄段用户每月购买行为的变化'), Task(task='分析促销活动对每月销售额和销量的影响')]), 'codes': [Code(code=\"SELECT \\n  EXTRACT(YEAR_MONTH FROM FROM_UNIXTIME(`timestamp`)) AS `year_month`,\\n  SUM(`items`.`price`) AS `total_revenue`,\\n  COUNT(*) AS `total_quantity`\\nFROM `interactions` \\nJOIN `items` ON `interactions`.`item_id` = `items`.`item_id`\\nWHERE `event_type` = 'purchase'\\nGROUP BY `year_month`\\nORDER BY `year_month`;\"), Code(code=\"SELECT \\n  `category_l1`, \\n  MONTH(`timestamp`) AS `month`,\\n  SUM(`price`) AS `total_revenue`,\\n  COUNT(*) AS `total_quantity`\\nFROM `interactions` \\nJOIN `items` ON `interactions`.`item_id` = `items`.`item_id`\\nWHERE `event_type` = 'purchase'\\nGROUP BY `category_l1`, `month`\\nORDER BY `total_revenue` DESC\\nLIMIT 100;\"), Code(code=\"SELECT\\n  u.`gender`,\\n  CASE\\n    WHEN u.`age` BETWEEN 0 AND 17 THEN '0-17'\\n    WHEN u.`age` BETWEEN 18 AND 24 THEN '18-24'\\n    WHEN u.`age` BETWEEN 25 AND 34 THEN '25-34'\\n    WHEN u.`age` BETWEEN 35 AND 44 THEN '35-44'\\n    WHEN u.`age` BETWEEN 45 AND 54 THEN '45-54'\\n    WHEN u.`age` BETWEEN 55 AND 64 THEN '55-64'\\n    ELSE '65+'\\n  END AS age_group,\\n  DATE_FORMAT(FROM_UNIXTIME(i.`timestamp`), '%Y-%m') AS year_month,\\n  COUNT(DISTINCT i.`item_id`) AS num_items_purchased\\nFROM `interactions` i\\nJOIN `users` u ON i.`user_id` = u.`user_id`\\nWHERE i.`event_type` = 'purchase'\\nGROUP BY u.`gender`, age_group, year_month\\nORDER BY year_month;\"), Code(code=\"SELECT \\n  MONTH(`timestamp`) AS `month`,\\n  SUM(CASE WHEN `promoted` = 'true' THEN 1 ELSE 0 END) AS `promoted_items_count`,\\n  SUM(CASE WHEN `promoted` = 'false' THEN 1 ELSE 0 END) AS `non_promoted_items_count`,\\n  SUM(CASE WHEN `promoted` = 'true' THEN `price` ELSE 0 END) AS `promoted_revenue`,\\n  SUM(CASE WHEN `promoted` = 'false' THEN `price` ELSE 0 END) AS `non_promoted_revenue`\\nFROM `interactions` \\nJOIN `items` ON `interactions`.`item_id` = `items`.`item_id`\\nWHERE `event_type` = 'purchase'\\nGROUP BY MONTH(`timestamp`)\\nORDER BY `month`;\")], 'loop_cnt': 3, 'query_results': [{'data':    year_month  total_revenue  total_quantity\n",
      "0      202305  206510.069533            2007\n",
      "1      202306  254588.349748            2356\n",
      "2      202307  156205.439767            1456, 'sql': \"SELECT \\n  EXTRACT(YEAR_MONTH FROM FROM_UNIXTIME(`timestamp`)) AS `year_month`,\\n  SUM(`items`.`price`) AS `total_revenue`,\\n  COUNT(*) AS `total_quantity`\\nFROM `interactions` \\nJOIN `items` ON `interactions`.`item_id` = `items`.`item_id`\\nWHERE `event_type` = 'purchase'\\nGROUP BY `year_month`\\nORDER BY `year_month`;\", 'status_code': 200, 'error_info': ''}, {'data':        category_l1 month  total_revenue  total_quantity\n",
      "0        furniture  None  131963.529587             449\n",
      "1      instruments  None  120806.628609             437\n",
      "2          apparel  None   61747.900782             510\n",
      "3      electronics  None   60501.739536             227\n",
      "4      accessories  None   43635.659981             434\n",
      "5       housewares  None   38191.809969             625\n",
      "6           floral  None   32939.699959             330\n",
      "7         seasonal  None   30275.570181             443\n",
      "8         footwear  None   28597.620169             438\n",
      "9        homedecor  None   20879.910431             412\n",
      "10        outdoors  None   20521.789881             221\n",
      "11         jewelry  None   11160.900055             110\n",
      "12          beauty  None    6236.869997             157\n",
      "13       groceries  None    3747.979926             402\n",
      "14           tools  None    2753.409964             159\n",
      "15           books  None    2083.140022              86\n",
      "16    food service  None    1064.100000             268\n",
      "17  cold dispensed  None     123.500000              67\n",
      "18    salty snacks  None      69.700000              42\n",
      "19   hot dispensed  None       2.400000               2, 'sql': \"SELECT \\n  `category_l1`, \\n  MONTH(`timestamp`) AS `month`,\\n  SUM(`price`) AS `total_revenue`,\\n  COUNT(*) AS `total_quantity`\\nFROM `interactions` \\nJOIN `items` ON `interactions`.`item_id` = `items`.`item_id`\\nWHERE `event_type` = 'purchase'\\nGROUP BY `category_l1`, `month`\\nORDER BY `total_revenue` DESC\\nLIMIT 100;\", 'status_code': 200, 'error_info': ''}, {'data': Empty DataFrame\n",
      "Columns: []\n",
      "Index: [], 'sql': \"SELECT\\n  u.`gender`,\\n  CASE\\n    WHEN u.`age` BETWEEN 0 AND 17 THEN '0-17'\\n    WHEN u.`age` BETWEEN 18 AND 24 THEN '18-24'\\n    WHEN u.`age` BETWEEN 25 AND 34 THEN '25-34'\\n    WHEN u.`age` BETWEEN 35 AND 44 THEN '35-44'\\n    WHEN u.`age` BETWEEN 45 AND 54 THEN '45-54'\\n    WHEN u.`age` BETWEEN 55 AND 64 THEN '55-64'\\n    ELSE '65+'\\n  END AS age_group,\\n  DATE_FORMAT(FROM_UNIXTIME(i.`timestamp`), '%Y-%m') AS year_month,\\n  COUNT(DISTINCT i.`item_id`) AS num_items_purchased\\nFROM `interactions` i\\nJOIN `users` u ON i.`user_id` = u.`user_id`\\nWHERE i.`event_type` = 'purchase'\\nGROUP BY u.`gender`, age_group, year_month\\nORDER BY year_month;\", 'status_code': 500, 'error_info': ProgrammingError('(pymysql.err.ProgrammingError) (1064, \"You have an error in your SQL syntax; check the manual that corresponds to your MySQL server version for the right syntax to use near \\'year_month,\\\\n  COUNT(DISTINCT i.`item_id`) AS num_items_purchased\\\\nFROM `interacti\\' at line 12\")')}, {'data':   month  promoted_items_count  non_promoted_items_count  promoted_revenue  \\\n",
      "0  None                   0.0                       0.0               0.0   \n",
      "\n",
      "   non_promoted_revenue  \n",
      "0                   0.0  , 'sql': \"SELECT \\n  MONTH(`timestamp`) AS `month`,\\n  SUM(CASE WHEN `promoted` = 'true' THEN 1 ELSE 0 END) AS `promoted_items_count`,\\n  SUM(CASE WHEN `promoted` = 'false' THEN 1 ELSE 0 END) AS `non_promoted_items_count`,\\n  SUM(CASE WHEN `promoted` = 'true' THEN `price` ELSE 0 END) AS `promoted_revenue`,\\n  SUM(CASE WHEN `promoted` = 'false' THEN `price` ELSE 0 END) AS `non_promoted_revenue`\\nFROM `interactions` \\nJOIN `items` ON `interactions`.`item_id` = `items`.`item_id`\\nWHERE `event_type` = 'purchase'\\nGROUP BY MONTH(`timestamp`)\\nORDER BY `month`;\", 'status_code': 200, 'error_info': ''}], 'error_info': ['', '', 'The sql:\\n```sql\\nSELECT\\n  u.`gender`,\\n  CASE\\n    WHEN u.`age` BETWEEN 0 AND 17 THEN \\'0-17\\'\\n    WHEN u.`age` BETWEEN 18 AND 24 THEN \\'18-24\\'\\n    WHEN u.`age` BETWEEN 25 AND 34 THEN \\'25-34\\'\\n    WHEN u.`age` BETWEEN 35 AND 44 THEN \\'35-44\\'\\n    WHEN u.`age` BETWEEN 45 AND 54 THEN \\'45-54\\'\\n    WHEN u.`age` BETWEEN 55 AND 64 THEN \\'55-64\\'\\n    ELSE \\'65+\\'\\n  END AS age_group,\\n  DATE_FORMAT(FROM_UNIXTIME(i.`timestamp`), \\'%Y-%m\\') AS year_month,\\n  COUNT(DISTINCT i.`item_id`) AS num_items_purchased\\nFROM `interactions` i\\nJOIN `users` u ON i.`user_id` = u.`user_id`\\nWHERE i.`event_type` = \\'purchase\\'\\nGROUP BY u.`gender`, age_group, year_month\\nORDER BY year_month;```\\nhas execution errors:(pymysql.err.ProgrammingError) (1064, \"You have an error in your SQL syntax; check the manual that corresponds to your MySQL server version for the right syntax to use near \\'year_month,\\\\n  COUNT(DISTINCT i.`item_id`) AS num_items_purchased\\\\nFROM `interacti\\' at line 12\")\\n[SQL: SELECT\\n  u.`gender`,\\n  CASE\\n    WHEN u.`age` BETWEEN 0 AND 17 THEN \\'0-17\\'\\n    WHEN u.`age` BETWEEN 18 AND 24 THEN \\'18-24\\'\\n    WHEN u.`age` BETWEEN 25 AND 34 THEN \\'25-34\\'\\n    WHEN u.`age` BETWEEN 35 AND 44 THEN \\'35-44\\'\\n    WHEN u.`age` BETWEEN 45 AND 54 THEN \\'45-54\\'\\n    WHEN u.`age` BETWEEN 55 AND 64 THEN \\'55-64\\'\\n    ELSE \\'65+\\'\\n  END AS age_group,\\n  DATE_FORMAT(FROM_UNIXTIME(i.`timestamp`), \\'%%Y-%%m\\') AS year_month,\\n  COUNT(DISTINCT i.`item_id`) AS num_items_purchased\\nFROM `interactions` i\\nJOIN `users` u ON i.`user_id` = u.`user_id`\\nWHERE i.`event_type` = \\'purchase\\'\\nGROUP BY u.`gender`, age_group, year_month\\nORDER BY year_month;]\\n(Background on this error at: https://sqlalche.me/e/20/f405)\\n', ''], 'final_response': '根据提供的数据,我们可以从以下几个方面来分析6月销售下降的原因:\\n\\n1. 总体销售额和销量变化趋势\\n   - 从第一个查询的结果可以看出,6月份的总销售额(254588.35)和销量(2356)都比5月份有所上升,但7月份又出现了明显下降。这表明6月份整体销售情况并未下降,反而是7月份出现了问题。\\n\\n2. 热门商品类别的销售变化\\n   - 第二个查询的结果显示了各个商品类别的总销售额和销量,但缺少月度数据,无法判断6月份各类别的具体变化情况。\\n\\n3. 不同人群的购买行为变化\\n   - 第三个查询的结果为空,无法分析不同性别和年龄段用户在6月份的购买行为变化。\\n\\n4. 促销活动的影响\\n   - 第四个查询的结果也为空,无法判断促销活动对6月份销售的影响。\\n\\n综合以上分析,根据提供的数据,我们无法准确判断6月份销售下降的具体原因。可能的原因包括:\\n   - 7月份出现了其他未知因素导致销售大幅下滑\\n   - 部分热门商品类别在6月份销售出现波动\\n   - 特定人群(性别/年龄段)在6月份购买行为发生变化\\n   - 促销活动策略调整影响了6月份销售\\n\\n需要进一步获取更详细的数据,如各商品类别、不同人群和促销活动的月度销售情况,才能更准确地分析6月份销售下降的原因。'}}\n",
      "\n",
      "---\n",
      "\n"
     ]
    }
   ],
   "source": [
    "async for event in workflow.astream(input=init_state):\n",
    "    steps.append(event)\n",
    "    for key, value in event.items():\n",
    "        print(f\"Output from node '{key}':\")\n",
    "        print(\"---\")\n",
    "        print(value)\n",
    "    print(\"\\n---\\n\")"
   ]
  },
  {
   "cell_type": "markdown",
   "metadata": {},
   "source": [
    "- Get the final response"
   ]
  },
  {
   "cell_type": "code",
   "execution_count": 132,
   "metadata": {},
   "outputs": [
    {
     "name": "stdout",
     "output_type": "stream",
     "text": [
      "根据提供的数据,我们可以从以下几个方面来分析销售下降的原因:\n",
      "\n",
      "1. 时间趋势分析\n",
      "根据第一个查询的结果,我们可以看到每月销售总额只有一个值,无法判断销售是否下降。如果有多个月份的数据,我们可以分析销售总额的月度变化趋势,判断是否存在下降的情况。\n",
      "\n",
      "2. 产品类别分析 \n",
      "第二个查询显示了各个产品类别的交互次数(包括浏览、购买等),反映了该类别的热门程度。我们可以关注热门类别的销售情况,看是否出现了下滑。\n",
      "\n",
      "3. 用户行为分析\n",
      "第三个查询的结果为空,无法分析不同年龄和性别用户的购买行为。如果有这些数据,我们可以判断是否某些用户群体的购买力下降导致了整体销售下滑。\n",
      "\n",
      "4. 促销活动影响\n",
      "第四个查询结果显示,所有产品类别的促销项目和非促销项目数量都为0,说明数据中可能没有促销活动的标记。如果有这些数据,我们可以分析促销活动对销售的影响。\n",
      "\n",
      "综上所述,由于提供的数据较为有限,难以准确判断销售下降的原因。我们需要更多的时间维度数据、用户维度数据以及促销活动数据,才能更全面地分析销售下降的原因。\n"
     ]
    }
   ],
   "source": [
    "print(steps[-1]['generate_response']['env_var']['final_response'])"
   ]
  },
  {
   "cell_type": "markdown",
   "metadata": {},
   "source": [
    "- Get the data results of each task"
   ]
  },
  {
   "cell_type": "code",
   "execution_count": 139,
   "metadata": {},
   "outputs": [],
   "source": [
    "import matplotlib.pyplot as plt"
   ]
  },
  {
   "cell_type": "code",
   "execution_count": 145,
   "metadata": {},
   "outputs": [
    {
     "name": "stdout",
     "output_type": "stream",
     "text": [
      "分析每月销售总额的变化趋势\n",
      "  month    total_sales\n",
      "0  None  617303.859047\n",
      "---------------\n",
      "分析热门商品类别的销售情况\n",
      "       category_l1  interaction_count\n",
      "0       housewares              70932\n",
      "1          apparel              58139\n",
      "2      accessories              53483\n",
      "3        furniture              51883\n",
      "4        homedecor              50877\n",
      "5         seasonal              50408\n",
      "6        groceries              49365\n",
      "7      instruments              49057\n",
      "8         footwear              47562\n",
      "9           floral              36724\n",
      "10    food service              33409\n",
      "11     electronics              29609\n",
      "12        outdoors              25677\n",
      "13          beauty              18140\n",
      "14           tools              16766\n",
      "15         jewelry              11648\n",
      "16           books              10115\n",
      "17  cold dispensed               7013\n",
      "18    salty snacks               3862\n",
      "19   hot dispensed                335\n",
      "---------------\n",
      "分析不同年龄段和性别用户的购买行为\n",
      "Empty DataFrame\n",
      "Columns: []\n",
      "Index: []\n",
      "---------------\n",
      "分析促销活动对销售的影响\n",
      "     category_l1    category_l2  promoted_items  non_promoted_items\n",
      "0      furniture         tables             0.0                 0.0\n",
      "1      homedecor          clock             0.0                 0.0\n",
      "2        jewelry       earrings             0.0                 0.0\n",
      "3      furniture       dressers             0.0                 0.0\n",
      "4   food service  other cuisine             0.0                 0.0\n",
      "..           ...            ...             ...                 ...\n",
      "79         tools         hammer             0.0                 0.0\n",
      "80   electronics       computer             0.0                 0.0\n",
      "81         tools          knife             0.0                 0.0\n",
      "82    housewares     consumable             0.0                 0.0\n",
      "83    housewares          salon             0.0                 0.0\n",
      "\n",
      "[84 rows x 4 columns]\n",
      "---------------\n"
     ]
    }
   ],
   "source": [
    "tasks = steps[-1]['generate_response']['env_var']['tasks']\n",
    "query_results = steps[-1]['generate_response']['env_var']['query_results']\n",
    "for query,result in zip(tasks.to_str_arr,query_results):\n",
    "    print(query)\n",
    "    print(result['data'])\n",
    "    print('---------------')"
   ]
  },
  {
   "cell_type": "code",
   "execution_count": null,
   "metadata": {},
   "outputs": [],
   "source": []
  }
 ],
 "metadata": {
  "kernelspec": {
   "display_name": "py311",
   "language": "python",
   "name": "python3"
  },
  "language_info": {
   "codemirror_mode": {
    "name": "ipython",
    "version": 3
   },
   "file_extension": ".py",
   "mimetype": "text/x-python",
   "name": "python",
   "nbconvert_exporter": "python",
   "pygments_lexer": "ipython3",
   "version": "3.10.14"
  }
 },
 "nbformat": 4,
 "nbformat_minor": 2
}
